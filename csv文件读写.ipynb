{
 "cells": [
  {
   "cell_type": "code",
   "execution_count": 1,
   "metadata": {},
   "outputs": [],
   "source": [
    "import csv"
   ]
  },
  {
   "cell_type": "markdown",
   "metadata": {},
   "source": [
    "## 读"
   ]
  },
  {
   "cell_type": "code",
   "execution_count": 9,
   "metadata": {},
   "outputs": [
    {
     "name": "stdout",
     "output_type": "stream",
     "text": [
      "{'name': '安道尔共和国', 'code': 'AD'}\n"
     ]
    }
   ],
   "source": [
    "with open('Country.csv', 'r', encoding='utf-8') as fp:\n",
    "    reader = csv.reader(fp)  # reader是一个迭代器\n",
    "#     for x in reader:\n",
    "#         print(x)\n",
    "    next(reader)  # 不读取第一行\n",
    "    for x in reader:\n",
    "        name = x[1]\n",
    "        code = x[0]\n",
    "        print({'name':name, 'code':code})\n",
    "        break"
   ]
  },
  {
   "cell_type": "markdown",
   "metadata": {},
   "source": [
    "#### 按值读取"
   ]
  },
  {
   "cell_type": "code",
   "execution_count": 12,
   "metadata": {},
   "outputs": [
    {
     "name": "stdout",
     "output_type": "stream",
     "text": [
      "安道尔共和国\n"
     ]
    }
   ],
   "source": [
    "with open('Country.csv', 'r', encoding='utf-8') as fp:\n",
    "    # 此时不包含标题\n",
    "    reader = csv.DictReader(fp)  # reader是一个迭代器，遍历得到字典\n",
    "    for x in reader:\n",
    "        print(x['国家或地区'])\n",
    "        break"
   ]
  },
  {
   "cell_type": "markdown",
   "metadata": {},
   "source": [
    "## 写"
   ]
  },
  {
   "cell_type": "code",
   "execution_count": 14,
   "metadata": {},
   "outputs": [],
   "source": [
    "header = ['时间', '收盘价', '涨跌']\n",
    "data = [['2017/2/20', '70.05', '涨'],\n",
    "        ['2017/2/21', '71.58', '涨'],\n",
    "        ['2017/2/22', '70.56', '跌'],\n",
    "        ['2017/2/24', '73.65', '涨'],\n",
    "        ['2017/2/25', '77.85', '涨']]"
   ]
  },
  {
   "cell_type": "code",
   "execution_count": 16,
   "metadata": {},
   "outputs": [],
   "source": [
    "with open('stock.csv', 'w', encoding='utf-8') as fp:\n",
    "    writer = csv.writer(fp)\n",
    "    writer.writerow(header)\n",
    "    writer.writerows(data)"
   ]
  },
  {
   "cell_type": "code",
   "execution_count": 6,
   "metadata": {},
   "outputs": [],
   "source": [
    "import pandas as pd"
   ]
  },
  {
   "cell_type": "code",
   "execution_count": 7,
   "metadata": {},
   "outputs": [],
   "source": [
    "a = pd.DataFrame({'b':[1,2,3],'c':[2,3,4]})"
   ]
  },
  {
   "cell_type": "code",
   "execution_count": 21,
   "metadata": {},
   "outputs": [
    {
     "data": {
      "text/plain": [
       "[[1, 2], [2, 3], [3, 4]]"
      ]
     },
     "execution_count": 21,
     "metadata": {},
     "output_type": "execute_result"
    }
   ],
   "source": [
    "a.values.tolist()"
   ]
  },
  {
   "cell_type": "code",
   "execution_count": 12,
   "metadata": {},
   "outputs": [],
   "source": [
    "header = [1, 2, 3]\n",
    "data = [{1:a,2: '70.05',3: '涨'},\n",
    "        {1:e,2: '71.58', 3:'涨'},\n",
    "        {1:'2017/2/22',2: '70.56', 3:'跌'}]"
   ]
  },
  {
   "cell_type": "code",
   "execution_count": 11,
   "metadata": {},
   "outputs": [],
   "source": [
    "e = [1,2,3,4]"
   ]
  },
  {
   "cell_type": "code",
   "execution_count": 13,
   "metadata": {},
   "outputs": [],
   "source": [
    "with open('stock.csv', 'a', encoding='utf-8') as fp:\n",
    "    writer = csv.DictWriter(fp, header)\n",
    "    writer.writeheader()\n",
    "    writer.writerows(data)"
   ]
  },
  {
   "cell_type": "code",
   "execution_count": null,
   "metadata": {},
   "outputs": [],
   "source": []
  }
 ],
 "metadata": {
  "kernelspec": {
   "display_name": "Python 3",
   "language": "python",
   "name": "python3"
  },
  "language_info": {
   "codemirror_mode": {
    "name": "ipython",
    "version": 3
   },
   "file_extension": ".py",
   "mimetype": "text/x-python",
   "name": "python",
   "nbconvert_exporter": "python",
   "pygments_lexer": "ipython3",
   "version": "3.7.6"
  }
 },
 "nbformat": 4,
 "nbformat_minor": 4
}
