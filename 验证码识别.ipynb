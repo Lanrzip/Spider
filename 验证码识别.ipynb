{
 "cells": [
  {
   "cell_type": "code",
   "execution_count": 1,
   "metadata": {},
   "outputs": [],
   "source": [
    "import pytesseract\n",
    "from PIL import Image"
   ]
  },
  {
   "cell_type": "code",
   "execution_count": 2,
   "metadata": {},
   "outputs": [],
   "source": [
    "# 指定tesseract.exe所在路径\n",
    "pytesseract.pytesseract.tesseract_cmd = r'L:\\download\\Tesseract\\tesseract.exe'"
   ]
  },
  {
   "cell_type": "code",
   "execution_count": 3,
   "metadata": {},
   "outputs": [
    {
     "name": "stdout",
     "output_type": "stream",
     "text": [
      "The (quick) [brown] {fox} jumps!\n",
      "Over the $43,456.78 <lazy> #90 dog\n",
      "& duck/goose, as 12.5% of E-mail\n",
      "from aspammer@website.com is spam.\n",
      "Der ,,schnelle” braune Fuchs springt\n",
      "tiber den faulen Hund. Le renard brun\n",
      "«rapide» saute par-dessus le chien\n",
      "paresseux. La volpe marrone rapida\n",
      "salta sopra il cane pigro. El zorro\n",
      "marrén rapido salta sobre el perro\n",
      "perezoso. A raposa marrom rapida\n",
      "salta sobre 0 c&o pregui¢goso.\n"
     ]
    }
   ],
   "source": [
    "image = Image.open('a.png')\n",
    "text = pytesseract.image_to_string(image)\n",
    "print(text)"
   ]
  },
  {
   "cell_type": "code",
   "execution_count": 9,
   "metadata": {},
   "outputs": [
    {
     "name": "stdout",
     "output_type": "stream",
     "text": [
      "报 : 京 东 发 布 2020\n",
      "\n",
      " \n",
      "\n",
      "F 第 一 季 度 财 报 ; 李 彦 宏\n",
      "\n",
      " \n",
      "\n",
      "钟 人 数 破 100 万 ; 瑞\n",
      "\n",
      " \n",
      "\n",
      "D\n",
      "\n",
      " \n",
      "\n",
      "应 闭 店\n",
      "\n",
      " \n",
      "\n",
      " \n",
      "\n",
      "播 首 秀 10 分\n"
     ]
    }
   ],
   "source": [
    "image = Image.open('b.png')\n",
    "# 指定language\n",
    "text = pytesseract.image_to_string(image, lang='chi_sim')\n",
    "print(text)"
   ]
  },
  {
   "cell_type": "code",
   "execution_count": 2,
   "metadata": {},
   "outputs": [],
   "source": [
    "import pytesseract\n",
    "from urllib import request\n",
    "from PIL import Image\n",
    "import time"
   ]
  },
  {
   "cell_type": "code",
   "execution_count": 3,
   "metadata": {},
   "outputs": [],
   "source": [
    "def main():\n",
    "    pytesseract.pytesseract.tesseract_cmd = r'L:\\download\\Tesseract\\tesseract.exe'\n",
    "    url = 'http://jw.sdufe.edu.cn/verifycode.servlet?t=0.2911372031003783'\n",
    "    while True:\n",
    "        request.urlretrieve(url, 'captcha.png')\n",
    "        image = Image.open('captcha.png')\n",
    "        text = pytesseract.image_to_string(image)\n",
    "        print(text)\n",
    "        time.sleep(2)"
   ]
  },
  {
   "cell_type": "code",
   "execution_count": 4,
   "metadata": {},
   "outputs": [
    {
     "name": "stdout",
     "output_type": "stream",
     "text": [
      "\n",
      "v291\n",
      "t bkI |\n",
      "72su\n",
      "fys2\n",
      "9cbu\n",
      "v719\n",
      "6d6f\n",
      "erfg\n",
      "Avy y.\n",
      "8i-Sse\n",
      "qlifb\n",
      "7yfs\n",
      "4xvh\n",
      "z6db\n"
     ]
    },
    {
     "ename": "KeyboardInterrupt",
     "evalue": "",
     "output_type": "error",
     "traceback": [
      "\u001b[1;31m---------------------------------------------------------------------------\u001b[0m",
      "\u001b[1;31mKeyboardInterrupt\u001b[0m                         Traceback (most recent call last)",
      "\u001b[1;32m<ipython-input-4-263240bbee7e>\u001b[0m in \u001b[0;36m<module>\u001b[1;34m\u001b[0m\n\u001b[1;32m----> 1\u001b[1;33m \u001b[0mmain\u001b[0m\u001b[1;33m(\u001b[0m\u001b[1;33m)\u001b[0m\u001b[1;33m\u001b[0m\u001b[1;33m\u001b[0m\u001b[0m\n\u001b[0m",
      "\u001b[1;32m<ipython-input-3-00c2f2345386>\u001b[0m in \u001b[0;36mmain\u001b[1;34m()\u001b[0m\n\u001b[0;32m      7\u001b[0m         \u001b[0mtext\u001b[0m \u001b[1;33m=\u001b[0m \u001b[0mpytesseract\u001b[0m\u001b[1;33m.\u001b[0m\u001b[0mimage_to_string\u001b[0m\u001b[1;33m(\u001b[0m\u001b[0mimage\u001b[0m\u001b[1;33m)\u001b[0m\u001b[1;33m\u001b[0m\u001b[1;33m\u001b[0m\u001b[0m\n\u001b[0;32m      8\u001b[0m         \u001b[0mprint\u001b[0m\u001b[1;33m(\u001b[0m\u001b[0mtext\u001b[0m\u001b[1;33m)\u001b[0m\u001b[1;33m\u001b[0m\u001b[1;33m\u001b[0m\u001b[0m\n\u001b[1;32m----> 9\u001b[1;33m         \u001b[0mtime\u001b[0m\u001b[1;33m.\u001b[0m\u001b[0msleep\u001b[0m\u001b[1;33m(\u001b[0m\u001b[1;36m2\u001b[0m\u001b[1;33m)\u001b[0m\u001b[1;33m\u001b[0m\u001b[1;33m\u001b[0m\u001b[0m\n\u001b[0m",
      "\u001b[1;31mKeyboardInterrupt\u001b[0m: "
     ]
    }
   ],
   "source": [
    "main()"
   ]
  },
  {
   "cell_type": "code",
   "execution_count": null,
   "metadata": {},
   "outputs": [],
   "source": []
  }
 ],
 "metadata": {
  "kernelspec": {
   "display_name": "Python 3",
   "language": "python",
   "name": "python3"
  },
  "language_info": {
   "codemirror_mode": {
    "name": "ipython",
    "version": 3
   },
   "file_extension": ".py",
   "mimetype": "text/x-python",
   "name": "python",
   "nbconvert_exporter": "python",
   "pygments_lexer": "ipython3",
   "version": "3.7.6"
  }
 },
 "nbformat": 4,
 "nbformat_minor": 4
}
