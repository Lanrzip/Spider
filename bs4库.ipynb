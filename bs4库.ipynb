{
 "cells": [
  {
   "cell_type": "code",
   "execution_count": 2,
   "metadata": {},
   "outputs": [],
   "source": [
    "from bs4 import BeautifulSoup"
   ]
  },
  {
   "cell_type": "code",
   "execution_count": 3,
   "metadata": {},
   "outputs": [],
   "source": [
    "html = \"\"\"\n",
    "<div>\n",
    "    <ul>\n",
    "        <li class=\"item-0\"><a href=\"link1.html\">first item</a></li>\n",
    "        <li class=\"item-1\"><a href=\"link2.html\">second item</a></li>\n",
    "        <li class=\"item-inactive\"><a href=\"link3.html\">third item</a></li>\n",
    "        <li class=\"item-1\"><a href=\"link4.html\">第四项</a></li>\n",
    "        <li class=\"item-0\"><a href=\"link5.html\">第五项</a>\n",
    "    </ul>\n",
    "</div>\n",
    "\"\"\"\n",
    "\n",
    "soup = BeautifulSoup(html, 'lxml')\n",
    "# 美化\n",
    "#soup.prettify()"
   ]
  },
  {
   "cell_type": "markdown",
   "metadata": {},
   "source": [
    "### find_all"
   ]
  },
  {
   "cell_type": "code",
   "execution_count": 4,
   "metadata": {},
   "outputs": [
    {
     "name": "stdout",
     "output_type": "stream",
     "text": [
      "[<li class=\"item-0\"><a href=\"link1.html\">first item</a></li>, <li class=\"item-1\"><a href=\"link2.html\">second item</a></li>, <li class=\"item-inactive\"><a href=\"link3.html\">third item</a></li>, <li class=\"item-1\"><a href=\"link4.html\">第四项</a></li>, <li class=\"item-0\"><a href=\"link5.html\">第五项</a>\n",
      "</li>]\n",
      "<class 'bs4.element.ResultSet'>\n"
     ]
    }
   ],
   "source": [
    "# 获取所有li标签\n",
    "lis = soup.find_all('li')\n",
    "print(lis)\n",
    "print(type(lis))"
   ]
  },
  {
   "cell_type": "code",
   "execution_count": 5,
   "metadata": {},
   "outputs": [
    {
     "name": "stdout",
     "output_type": "stream",
     "text": [
      "<class 'bs4.element.Tag'>\n"
     ]
    }
   ],
   "source": [
    "for li in lis:\n",
    "    print(type(li))\n",
    "    break"
   ]
  },
  {
   "cell_type": "code",
   "execution_count": 6,
   "metadata": {},
   "outputs": [
    {
     "name": "stdout",
     "output_type": "stream",
     "text": [
      "<li class=\"item-1\"><a href=\"link2.html\">second item</a></li>\n"
     ]
    }
   ],
   "source": [
    "# 获取第2个li标签，只能通过列表操作\n",
    "lis = soup.find_all('li', limit=2)  # 限定提取个数\n",
    "print(lis[1])"
   ]
  },
  {
   "cell_type": "code",
   "execution_count": 7,
   "metadata": {},
   "outputs": [
    {
     "name": "stdout",
     "output_type": "stream",
     "text": [
      "[<li class=\"item-inactive\"><a href=\"link3.html\">third item</a></li>]\n"
     ]
    }
   ],
   "source": [
    "# 获取class=\"item-inactive\"的标签\n",
    "lis = soup.find_all('li', class_='item-inactive')\n",
    "print(lis)"
   ]
  },
  {
   "cell_type": "code",
   "execution_count": 8,
   "metadata": {},
   "outputs": [
    {
     "name": "stdout",
     "output_type": "stream",
     "text": [
      "[<li class=\"item-inactive\"><a href=\"link3.html\">third item</a></li>]\n"
     ]
    }
   ],
   "source": [
    "lis = soup.find_all('li', attrs={'class':'item-inactive'})\n",
    "print(lis)"
   ]
  },
  {
   "cell_type": "code",
   "execution_count": 9,
   "metadata": {},
   "outputs": [],
   "source": [
    "# 获取所有id等于test，class等于test的a标签\n",
    "#alist = soup.find_all('a', id='test', class_='test')"
   ]
  },
  {
   "cell_type": "code",
   "execution_count": 10,
   "metadata": {},
   "outputs": [
    {
     "name": "stdout",
     "output_type": "stream",
     "text": [
      "link1.html\n",
      "link1.html\n",
      "link2.html\n",
      "link2.html\n",
      "link3.html\n",
      "link3.html\n",
      "link4.html\n",
      "link4.html\n",
      "link5.html\n",
      "link5.html\n"
     ]
    }
   ],
   "source": [
    "# 所有a标签的href属性\n",
    "alist = soup.find_all('a')\n",
    "for a in alist:\n",
    "    # 1.通过下标操作\n",
    "    href = a['href']\n",
    "    print(href)\n",
    "    \n",
    "    # 2.通过attrs属性\n",
    "    href = a.attrs['href']\n",
    "    print(href)"
   ]
  },
  {
   "cell_type": "markdown",
   "metadata": {},
   "source": [
    "#### string返回字符串"
   ]
  },
  {
   "cell_type": "code",
   "execution_count": 11,
   "metadata": {},
   "outputs": [
    {
     "name": "stdout",
     "output_type": "stream",
     "text": [
      "second item\n",
      "third item\n",
      "第四项\n",
      "None\n"
     ]
    }
   ],
   "source": [
    "# 获取除了第一个li外所有li标签中的文本\n",
    "lis = soup.find_all('li')[1:]\n",
    "for li in lis:\n",
    "    print(li.string)"
   ]
  },
  {
   "cell_type": "markdown",
   "metadata": {},
   "source": [
    "#### strings返回生成器"
   ]
  },
  {
   "cell_type": "code",
   "execution_count": 12,
   "metadata": {},
   "outputs": [
    {
     "data": {
      "text/plain": [
       "['\\n',\n",
       " 'first item',\n",
       " '\\n',\n",
       " 'second item',\n",
       " '\\n',\n",
       " 'third item',\n",
       " '\\n',\n",
       " '第四项',\n",
       " '\\n',\n",
       " '第五项',\n",
       " '\\n']"
      ]
     },
     "execution_count": 12,
     "metadata": {},
     "output_type": "execute_result"
    }
   ],
   "source": [
    "ul = soup.find_all('ul')[0]\n",
    "list(ul.strings)"
   ]
  },
  {
   "cell_type": "markdown",
   "metadata": {},
   "source": [
    "#### stripped_strings返回列表"
   ]
  },
  {
   "cell_type": "code",
   "execution_count": 13,
   "metadata": {},
   "outputs": [
    {
     "data": {
      "text/plain": [
       "['first item', 'second item', 'third item', '第四项', '第五项']"
      ]
     },
     "execution_count": 13,
     "metadata": {},
     "output_type": "execute_result"
    }
   ],
   "source": [
    "list(ul.stripped_strings)"
   ]
  },
  {
   "cell_type": "markdown",
   "metadata": {},
   "source": [
    "### find只提取第一个"
   ]
  },
  {
   "cell_type": "code",
   "execution_count": 14,
   "metadata": {},
   "outputs": [
    {
     "data": {
      "text/plain": [
       "<a href=\"link1.html\">first item</a>"
      ]
     },
     "execution_count": 14,
     "metadata": {},
     "output_type": "execute_result"
    }
   ],
   "source": [
    "soup.find('a')"
   ]
  },
  {
   "cell_type": "markdown",
   "metadata": {},
   "source": [
    "### get_text返回字符串"
   ]
  },
  {
   "cell_type": "code",
   "execution_count": 15,
   "metadata": {},
   "outputs": [
    {
     "data": {
      "text/plain": [
       "'\\nfirst item\\nsecond item\\nthird item\\n第四项\\n第五项\\n'"
      ]
     },
     "execution_count": 15,
     "metadata": {},
     "output_type": "execute_result"
    }
   ],
   "source": [
    "ul = soup.find_all('ul')[0]\n",
    "ul.get_text()"
   ]
  },
  {
   "cell_type": "markdown",
   "metadata": {},
   "source": [
    "### select"
   ]
  },
  {
   "cell_type": "code",
   "execution_count": 16,
   "metadata": {},
   "outputs": [],
   "source": [
    "soup = BeautifulSoup(html, 'lxml')"
   ]
  },
  {
   "cell_type": "code",
   "execution_count": 20,
   "metadata": {},
   "outputs": [
    {
     "name": "stdout",
     "output_type": "stream",
     "text": [
      "<li class=\"item-0\"><a href=\"link1.html\">first item</a></li>\n",
      "<class 'bs4.element.Tag'>\n"
     ]
    }
   ],
   "source": [
    "lis = soup.select('li')\n",
    "for li in lis:\n",
    "    print(li)\n",
    "    print(type(li))\n",
    "    break"
   ]
  },
  {
   "cell_type": "code",
   "execution_count": 22,
   "metadata": {},
   "outputs": [
    {
     "data": {
      "text/plain": [
       "<li class=\"item-0\"><a href=\"link1.html\">first item</a></li>"
      ]
     },
     "execution_count": 22,
     "metadata": {},
     "output_type": "execute_result"
    }
   ],
   "source": [
    "# 第一个li\n",
    "soup.select('li')[0]"
   ]
  },
  {
   "cell_type": "code",
   "execution_count": 23,
   "metadata": {},
   "outputs": [
    {
     "data": {
      "text/plain": [
       "[<li class=\"item-1\"><a href=\"link2.html\">second item</a></li>,\n",
       " <li class=\"item-1\"><a href=\"link4.html\">第四项</a></li>]"
      ]
     },
     "execution_count": 23,
     "metadata": {},
     "output_type": "execute_result"
    }
   ],
   "source": [
    "# class=item-1\n",
    "soup.select('li.item-1')"
   ]
  },
  {
   "cell_type": "code",
   "execution_count": 24,
   "metadata": {},
   "outputs": [
    {
     "name": "stdout",
     "output_type": "stream",
     "text": [
      "link1.html\n",
      "link2.html\n",
      "link3.html\n",
      "link4.html\n",
      "link5.html\n"
     ]
    }
   ],
   "source": [
    "# href\n",
    "alist = soup.select('a')\n",
    "for a in alist:\n",
    "    print(a['href'])"
   ]
  },
  {
   "cell_type": "code",
   "execution_count": null,
   "metadata": {},
   "outputs": [],
   "source": [
    " "
   ]
  }
 ],
 "metadata": {
  "kernelspec": {
   "display_name": "Python 3",
   "language": "python",
   "name": "python3"
  },
  "language_info": {
   "codemirror_mode": {
    "name": "ipython",
    "version": 3
   },
   "file_extension": ".py",
   "mimetype": "text/x-python",
   "name": "python",
   "nbconvert_exporter": "python",
   "pygments_lexer": "ipython3",
   "version": "3.7.7"
  }
 },
 "nbformat": 4,
 "nbformat_minor": 4
}
