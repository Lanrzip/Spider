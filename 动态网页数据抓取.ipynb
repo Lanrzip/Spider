{
 "cells": [
  {
   "cell_type": "code",
   "execution_count": 13,
   "metadata": {},
   "outputs": [
    {
     "data": {
      "text/plain": [
       "['fefe', 'fef']"
      ]
     },
     "execution_count": 13,
     "metadata": {},
     "output_type": "execute_result"
    }
   ],
   "source": [
    "['fefe'] + ['fef']"
   ]
  },
  {
   "cell_type": "code",
   "execution_count": 12,
   "metadata": {},
   "outputs": [
    {
     "data": {
      "text/plain": [
       "'efef.efef'"
      ]
     },
     "execution_count": 12,
     "metadata": {},
     "output_type": "execute_result"
    }
   ],
   "source": [
    "'.'.join(['efef','efef'])"
   ]
  },
  {
   "cell_type": "markdown",
   "metadata": {},
   "source": [
    "### 获取ajax数据的方式\n",
    "- 直接分析ajax调用的接口，然后通过代码请求这个接口\n",
    "- 使用Selenium+chromedriver模拟浏览器行为获取数据"
   ]
  },
  {
   "cell_type": "code",
   "execution_count": 2,
   "metadata": {},
   "outputs": [],
   "source": [
    "from selenium import webdriver"
   ]
  },
  {
   "cell_type": "code",
   "execution_count": 5,
   "metadata": {},
   "outputs": [],
   "source": [
    "# driver_path = r'L:\\download\\chromedriver.exe'\n",
    "\n",
    "# driver = webdriver.Chrome(executable_path=driver_path)\n",
    "# driver.get('https://www.baidu.com')\n",
    "# print(driver.page_source)"
   ]
  },
  {
   "cell_type": "markdown",
   "metadata": {},
   "source": [
    "### 关闭页面\n",
    "- driver.close()关闭当前页面\n",
    "- driver.quit()退出浏览器"
   ]
  },
  {
   "cell_type": "code",
   "execution_count": 3,
   "metadata": {},
   "outputs": [],
   "source": [
    "import time"
   ]
  },
  {
   "cell_type": "code",
   "execution_count": 4,
   "metadata": {},
   "outputs": [],
   "source": [
    "# driver_path = r'L:\\download\\chromedriver.exe'\n",
    "\n",
    "# driver = webdriver.Chrome(executable_path=driver_path)\n",
    "# driver.get('https://www.baidu.com')\n",
    "# time.sleep(5)\n",
    "# driver.close()\n",
    "# # driver.quit()"
   ]
  },
  {
   "cell_type": "markdown",
   "metadata": {},
   "source": [
    "### 定位元素"
   ]
  },
  {
   "cell_type": "markdown",
   "metadata": {},
   "source": [
    "#### 单个元素\n",
    "- from selenium.webdriver.common.by import By\n",
    "    - driver.find_element(By.ID,'内容')\n",
    "\n",
    "还可以写成\n",
    "- driver.find_element_by_id\n",
    "- driver.find_element_by_name\n",
    "- driver.find_element_by_class_name\n",
    "- driver.find_element_by_tag_name\n",
    "- driver.find_element_by_xpath\n",
    "- driver.find_element_by_css_selector\n",
    "\n",
    "#### element-->elements代表选择多个元素"
   ]
  },
  {
   "cell_type": "code",
   "execution_count": 9,
   "metadata": {},
   "outputs": [
    {
     "name": "stdout",
     "output_type": "stream",
     "text": [
      "839\n"
     ]
    }
   ],
   "source": [
    "driver_path = r'L:\\download\\chromedriver.exe'\n",
    "\n",
    "driver = webdriver.Chrome(executable_path=driver_path)\n",
    "driver.get('http://guba.eastmoney.com/list,600011.html')\n",
    "\n",
    "page = driver.find_element_by_class_name('sumpage')\n",
    "print(page.text)"
   ]
  },
  {
   "cell_type": "code",
   "execution_count": 5,
   "metadata": {},
   "outputs": [],
   "source": [
    "# driver_path = r'L:\\download\\chromedriver.exe'\n",
    "\n",
    "# driver = webdriver.Chrome(executable_path=driver_path)\n",
    "# driver.get('https://www.baidu.com')\n",
    "\n",
    "# inputTag = driver.find_element_by_id('kw')\n",
    "# # inputTag.send_keys('python')"
   ]
  },
  {
   "cell_type": "markdown",
   "metadata": {},
   "source": [
    "### 操作表单元素 "
   ]
  },
  {
   "cell_type": "markdown",
   "metadata": {},
   "source": [
    "- 常见表单元素: input type='text/password/email/number'\n",
    "- button: input type='submit'\n",
    "- checkbox: input type='checkbox'\n",
    "- select: 下拉列表"
   ]
  },
  {
   "cell_type": "markdown",
   "metadata": {},
   "source": [
    "#### 操作表单"
   ]
  },
  {
   "cell_type": "code",
   "execution_count": 6,
   "metadata": {},
   "outputs": [],
   "source": [
    "# driver_path = r'L:\\download\\chromedriver.exe'\n",
    "\n",
    "# driver = webdriver.Chrome(executable_path=driver_path)\n",
    "# driver.get('https://www.baidu.com')\n",
    "\n",
    "# inputTag = driver.find_element_by_id('kw')\n",
    "# inputTag.send_keys('python')\n",
    "# time.sleep(3)\n",
    "# inputTag.clear()"
   ]
  },
  {
   "cell_type": "markdown",
   "metadata": {},
   "source": [
    "#### 操作checkbox"
   ]
  },
  {
   "cell_type": "code",
   "execution_count": 7,
   "metadata": {},
   "outputs": [],
   "source": [
    "# # 不知道为啥报错\n",
    "# driver_path = r'L:\\download\\chromedriver.exe'\n",
    "\n",
    "# driver = webdriver.Chrome(executable_path=driver_path)\n",
    "# driver.get('https://www.douban.com/')\n",
    "# reme = driver.find_element_by_name('remember')\n",
    "# reme.click()"
   ]
  },
  {
   "cell_type": "markdown",
   "metadata": {},
   "source": [
    "#### 操作select"
   ]
  },
  {
   "cell_type": "code",
   "execution_count": 8,
   "metadata": {},
   "outputs": [],
   "source": [
    "# from selenium.webdriver.support.ui import Select\n",
    "\n",
    "# driver_path = r'L:\\download\\chromedriver.exe'\n",
    "\n",
    "# driver = webdriver.Chrome(executable_path=driver_path)\n",
    "# driver.get('http://www.sdzk.cn/')\n",
    "\n",
    "# selectTag = Select(driver.find_element_by_name('provinceOrg'))\n",
    "# # 选中第一个\n",
    "# # selectTag.select_by_index(1)\n",
    "# # 或\n",
    "# # selectTag.select_by_value('http://www.bjeea.cn/')\n",
    "# # 或\n",
    "# selectTag.select_by_visible_text('北京教育考试院')"
   ]
  },
  {
   "cell_type": "code",
   "execution_count": 9,
   "metadata": {},
   "outputs": [],
   "source": [
    "# 取消所有选中\n",
    "# selectTag.deselect_all()"
   ]
  },
  {
   "cell_type": "markdown",
   "metadata": {},
   "source": [
    "#### 操作按钮"
   ]
  },
  {
   "cell_type": "code",
   "execution_count": 10,
   "metadata": {},
   "outputs": [],
   "source": [
    "# driver_path = r'L:\\download\\chromedriver.exe'\n",
    "\n",
    "# driver = webdriver.Chrome(executable_path=driver_path)\n",
    "# driver.get('https://www.baidu.com')\n",
    "\n",
    "# inputTag = driver.find_element_by_id('kw')\n",
    "# inputTag.send_keys('python')\n",
    "\n",
    "# submitTag = driver.find_element_by_id('su')\n",
    "# submitTag.click()"
   ]
  },
  {
   "cell_type": "markdown",
   "metadata": {},
   "source": [
    "## 行为链"
   ]
  },
  {
   "cell_type": "code",
   "execution_count": 12,
   "metadata": {},
   "outputs": [],
   "source": [
    "from selenium.webdriver.common.action_chains import ActionChains"
   ]
  },
  {
   "cell_type": "code",
   "execution_count": 15,
   "metadata": {},
   "outputs": [],
   "source": [
    "# driver_path = r'L:\\download\\chromedriver.exe'\n",
    "\n",
    "# driver = webdriver.Chrome(executable_path=driver_path)\n",
    "# driver.get('https://www.baidu.com')\n",
    "\n",
    "# inputTag = driver.find_element_by_id('kw')\n",
    "# submitBtn = driver.find_element_by_id('su')\n",
    "\n",
    "# actions = ActionChains(driver)\n",
    "# actions.move_to_element(inputTag)\n",
    "# actions.send_keys_to_element(inputTag, 'python')\n",
    "# actions.move_to_element(submitBtn)\n",
    "# actions.click(submitBtn)\n",
    "# # 按顺序执行上述操作\n",
    "# actions.perform()"
   ]
  },
  {
   "cell_type": "code",
   "execution_count": 16,
   "metadata": {},
   "outputs": [],
   "source": [
    "# click_and_hold(element): 点击但不松开鼠标\n",
    "# content_click(element): 右击\n",
    "# double_click(element): 双击"
   ]
  },
  {
   "cell_type": "markdown",
   "metadata": {},
   "source": [
    "## Cookie操作"
   ]
  },
  {
   "cell_type": "code",
   "execution_count": 23,
   "metadata": {},
   "outputs": [
    {
     "name": "stdout",
     "output_type": "stream",
     "text": [
      "{'domain': '.baidu.com', 'httpOnly': False, 'name': 'H_PS_PSSID', 'path': '/', 'secure': False, 'value': '31356_1431_21081_31110_31253_31589_31464_31321_30824_26350'}\n",
      "{'domain': '.baidu.com', 'expiry': 1620977643.88158, 'httpOnly': False, 'name': 'BAIDUID', 'path': '/', 'secure': False, 'value': '8F12006A32FD332D96AAC1F91BE07A81:FG=1'}\n",
      "{'domain': '.baidu.com', 'expiry': 3736925290.881553, 'httpOnly': False, 'name': 'BIDUPSID', 'path': '/', 'secure': False, 'value': '8F12006A32FD332D5DBB51D4765D82D6'}\n",
      "{'domain': '.baidu.com', 'expiry': 3736925290.881568, 'httpOnly': False, 'name': 'PSTM', 'path': '/', 'secure': False, 'value': '1589441644'}\n",
      "{'domain': 'www.baidu.com', 'expiry': 1590305644, 'httpOnly': False, 'name': 'BD_UPN', 'path': '/', 'secure': False, 'value': '12314753'}\n",
      "{'domain': 'www.baidu.com', 'httpOnly': False, 'name': 'BD_HOME', 'path': '/', 'secure': False, 'value': '1'}\n",
      "******************************\n",
      "{'domain': '.baidu.com', 'expiry': 3736925290.881568, 'httpOnly': False, 'name': 'PSTM', 'path': '/', 'secure': False, 'value': '1589441644'}\n",
      "******************************\n",
      "None\n"
     ]
    }
   ],
   "source": [
    "# driver_path = r'L:\\download\\chromedriver.exe'\n",
    "\n",
    "# driver = webdriver.Chrome(executable_path=driver_path)\n",
    "# driver.get('https://www.baidu.com')\n",
    "# # 获取当前页面所有cookie信息\n",
    "# for cookie in driver.get_cookies():\n",
    "#     print(cookie)\n",
    "# print('*'*30)\n",
    "# # 根据key获取value\n",
    "# print(driver.get_cookie('PSTM'))\n",
    "# print('*'*30)\n",
    "# # 删除cookie信息\n",
    "# driver.delete_cookie('PSTM')\n",
    "# print(driver.get_cookie('PSTM'))\n",
    "# # 删除所有cookie\n",
    "# driver.delete_all_cookies()"
   ]
  },
  {
   "cell_type": "markdown",
   "metadata": {},
   "source": [
    "## 页面等待"
   ]
  },
  {
   "cell_type": "markdown",
   "metadata": {},
   "source": [
    "#### 隐式等待"
   ]
  },
  {
   "cell_type": "code",
   "execution_count": 27,
   "metadata": {},
   "outputs": [],
   "source": [
    "# driver_path = r'L:\\download\\chromedriver.exe'\n",
    "\n",
    "# driver = webdriver.Chrome(executable_path=driver_path)\n",
    "# driver.get('https://www.douban.com/')\n",
    "# # 隐式等待\n",
    "# driver.implicitly_wait(20)\n",
    "# # 不等待的话会直接报错\n",
    "# driver.find_element_by_id('jsfiejik')"
   ]
  },
  {
   "cell_type": "markdown",
   "metadata": {},
   "source": [
    "#### 显式等待"
   ]
  },
  {
   "cell_type": "code",
   "execution_count": 56,
   "metadata": {},
   "outputs": [],
   "source": [
    "from selenium.webdriver.support.ui import WebDriverWait\n",
    "from selenium.webdriver.support import expected_conditions as EC\n",
    "from selenium.webdriver.common.by import By"
   ]
  },
  {
   "cell_type": "code",
   "execution_count": 37,
   "metadata": {},
   "outputs": [],
   "source": [
    "# # 报错了\n",
    "# driver_path = r'L:\\download\\chromedriver.exe'\n",
    "\n",
    "# driver = webdriver.Chrome(executable_path=driver_path)\n",
    "# driver.get('https://www.douban.com/')\n",
    "# # 显式等待\n",
    "# element = WebDriverWait(driver, 10).until(\n",
    "#     EC.presence_of_element_located((By.CLASS_NAME, 'account-form-input'))\n",
    "# )\n",
    "# print(element)"
   ]
  },
  {
   "cell_type": "markdown",
   "metadata": {},
   "source": [
    "## 切换页面"
   ]
  },
  {
   "cell_type": "code",
   "execution_count": 45,
   "metadata": {},
   "outputs": [],
   "source": [
    "# driver_path = r'L:\\download\\chromedriver.exe'\n",
    "\n",
    "# driver = webdriver.Chrome(executable_path=driver_path)\n",
    "# driver.get('https://www.baidu.com')\n",
    "# # 新打开豆瓣，如果使用get会覆盖掉百度\n",
    "# # 但driver仍停留在百度的页面\n",
    "# driver.execute_script(\"window.open('https://www.douban.com')\")\n",
    "# # 打印当前页面\n",
    "# print(driver.current_url)\n",
    "# print(driver.window_handles)\n",
    "# # 切换至另一个页面\n",
    "# driver.switch_to_window(driver.window_handles[1])\n",
    "# print(driver.current_url)\n",
    "# # 打印当前页面源代码\n",
    "# # print(driver.page_source)"
   ]
  },
  {
   "cell_type": "markdown",
   "metadata": {},
   "source": [
    "## 设置代理ip"
   ]
  },
  {
   "cell_type": "code",
   "execution_count": 52,
   "metadata": {},
   "outputs": [],
   "source": [
    "# options = webdriver.ChromeOptions()\n",
    "# options.add_argument('--proxy-server=http://218.2.226.42:80')\n",
    "\n",
    "# driver_path = r'L:\\download\\chromedriver.exe'\n",
    "\n",
    "# driver = webdriver.Chrome(executable_path=driver_path, options=options)\n",
    "# driver.get('http://www.httpbin.org/ip')"
   ]
  },
  {
   "cell_type": "markdown",
   "metadata": {},
   "source": [
    "## WebElement元素"
   ]
  },
  {
   "cell_type": "code",
   "execution_count": 5,
   "metadata": {},
   "outputs": [],
   "source": [
    "from selenium.webdriver.remote.webelement import WebElement"
   ]
  },
  {
   "cell_type": "code",
   "execution_count": 6,
   "metadata": {},
   "outputs": [
    {
     "name": "stdout",
     "output_type": "stream",
     "text": [
      "<class 'selenium.webdriver.remote.webelement.WebElement'>\n",
      "百度一下\n"
     ]
    },
    {
     "data": {
      "text/plain": [
       "True"
      ]
     },
     "execution_count": 6,
     "metadata": {},
     "output_type": "execute_result"
    }
   ],
   "source": [
    "driver_path = r'L:\\download\\chromedriver.exe'\n",
    "\n",
    "driver = webdriver.Chrome(executable_path=driver_path)\n",
    "driver.get('https://www.baidu.com')\n",
    "\n",
    "submitBtn = driver.find_element_by_id('su')\n",
    "print(type(submitBtn))\n",
    "# 获取value中的信息\n",
    "print(submitBtn.get_attribute('value'))\n",
    "# 截图\n",
    "driver.save_screenshot('baidu.png')"
   ]
  },
  {
   "cell_type": "code",
   "execution_count": null,
   "metadata": {},
   "outputs": [],
   "source": []
  }
 ],
 "metadata": {
  "kernelspec": {
   "display_name": "Python 3",
   "language": "python",
   "name": "python3"
  },
  "language_info": {
   "codemirror_mode": {
    "name": "ipython",
    "version": 3
   },
   "file_extension": ".py",
   "mimetype": "text/x-python",
   "name": "python",
   "nbconvert_exporter": "python",
   "pygments_lexer": "ipython3",
   "version": "3.7.6"
  }
 },
 "nbformat": 4,
 "nbformat_minor": 4
}
