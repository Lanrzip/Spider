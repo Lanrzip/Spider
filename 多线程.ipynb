{
 "cells": [
  {
   "cell_type": "code",
   "execution_count": 2,
   "metadata": {},
   "outputs": [],
   "source": [
    "import threading\n",
    "import time"
   ]
  },
  {
   "cell_type": "markdown",
   "metadata": {},
   "source": [
    "### 传统方式"
   ]
  },
  {
   "cell_type": "code",
   "execution_count": 13,
   "metadata": {},
   "outputs": [
    {
     "name": "stdout",
     "output_type": "stream",
     "text": [
      "正在进行coding...0\n",
      "正在进行coding...1\n",
      "正在进行coding...2\n",
      "正在进行drawing...0\n",
      "正在进行drawing...1\n",
      "正在进行drawing...2\n",
      "用时 6.0022454261779785\n"
     ]
    }
   ],
   "source": [
    "def coding():\n",
    "    for x in range(3):\n",
    "        print('正在进行coding...%s' %x)\n",
    "        time.sleep(1)\n",
    "        \n",
    "def drawing():\n",
    "    for x in range(3):\n",
    "        print('正在进行drawing...%s' %x)\n",
    "        time.sleep(1)\n",
    "        \n",
    "def main():\n",
    "    coding()\n",
    "    drawing()\n",
    "    \n",
    "if __name__ == '__main__':\n",
    "    start = time.time()  # 返回当前时间的时间戳（1970纪元后经过的浮点秒数）。\n",
    "    main()\n",
    "    end = time.time()\n",
    "    print('用时',end-start)"
   ]
  },
  {
   "cell_type": "markdown",
   "metadata": {},
   "source": [
    "### 多线程"
   ]
  },
  {
   "cell_type": "code",
   "execution_count": 12,
   "metadata": {},
   "outputs": [
    {
     "name": "stdout",
     "output_type": "stream",
     "text": [
      "正在进行coding...0\n",
      "正在进行drawing...0\n",
      "用时 0.005986213684082031\n",
      "正在进行coding...1\n",
      "正在进行drawing...1\n",
      "正在进行coding...2\n",
      "正在进行drawing...2\n"
     ]
    }
   ],
   "source": [
    "def coding():\n",
    "    for x in range(3):\n",
    "        print('正在进行coding...%s' %x)\n",
    "        time.sleep(1)\n",
    "        \n",
    "def drawing():\n",
    "    for x in range(3):\n",
    "        print('正在进行drawing...%s' %x)\n",
    "        time.sleep(1)\n",
    "        \n",
    "def main():\n",
    "    t1 = threading.Thread(target=coding)\n",
    "    t2 = threading.Thread(target=drawing)\n",
    "    \n",
    "    t1.start()\n",
    "    t2.start()\n",
    "    \n",
    "if __name__ == '__main__':\n",
    "    start = time.time()\n",
    "    main()\n",
    "    end = time.time()\n",
    "    print('用时',end-start)"
   ]
  },
  {
   "cell_type": "markdown",
   "metadata": {},
   "source": [
    "#### 查看当前进程当中有多少线程数"
   ]
  },
  {
   "cell_type": "code",
   "execution_count": 40,
   "metadata": {},
   "outputs": [
    {
     "name": "stdout",
     "output_type": "stream",
     "text": [
      "正在进行coding...0\n",
      "正在进行drawing...0\n",
      "[<_MainThread(MainThread, started 48836)>, <Thread(Thread-4, started daemon 41924)>, <Heartbeat(Thread-5, started daemon 9208)>, <HistorySavingThread(IPythonHistorySavingThread, started 20780)>, <ParentPollerWindows(Thread-3, started daemon 22240)>, <Thread(Thread-32, started 40536)>, <Thread(Thread-33, started 6264)>]\n",
      "正在进行coding...1\n",
      "正在进行drawing...1\n",
      "正在进行coding...2\n",
      "正在进行drawing...2\n"
     ]
    }
   ],
   "source": [
    "def coding():\n",
    "    for x in range(3):\n",
    "        print('正在进行coding...%s' %x)\n",
    "        time.sleep(1)\n",
    "        \n",
    "def drawing():\n",
    "    for x in range(3):\n",
    "        print('正在进行drawing...%s' %x)\n",
    "        time.sleep(1)\n",
    "        \n",
    "def main():\n",
    "    t1 = threading.Thread(target=coding)\n",
    "    t2 = threading.Thread(target=drawing)\n",
    "    \n",
    "    t1.start()\n",
    "    t2.start()\n",
    "    \n",
    "if __name__ == '__main__':\n",
    "    main()\n",
    "    print(threading.enumerate())"
   ]
  },
  {
   "cell_type": "markdown",
   "metadata": {},
   "source": [
    "#### 查看当前线程名称"
   ]
  },
  {
   "cell_type": "code",
   "execution_count": 41,
   "metadata": {},
   "outputs": [
    {
     "name": "stdout",
     "output_type": "stream",
     "text": [
      "正在进行coding...<Thread(Thread-34, started 13120)>\n",
      "正在进行drawing...<Thread(Thread-35, started 20076)>\n",
      "正在进行coding...<Thread(Thread-34, started 13120)>\n",
      "正在进行drawing...<Thread(Thread-35, started 20076)>\n",
      "正在进行coding...<Thread(Thread-34, started 13120)>\n",
      "正在进行drawing...<Thread(Thread-35, started 20076)>\n"
     ]
    }
   ],
   "source": [
    "def coding():\n",
    "    for x in range(3):\n",
    "        print('正在进行coding...%s' %threading.current_thread())\n",
    "        time.sleep(1)\n",
    "        \n",
    "def drawing():\n",
    "    for x in range(3):\n",
    "        print('正在进行drawing...%s' %threading.current_thread())\n",
    "        time.sleep(1)\n",
    "        \n",
    "def main():\n",
    "    t1 = threading.Thread(target=coding)\n",
    "    t2 = threading.Thread(target=drawing)\n",
    "    \n",
    "    t1.start()\n",
    "    t2.start()\n",
    "    \n",
    "if __name__ == '__main__':\n",
    "    main()"
   ]
  },
  {
   "cell_type": "code",
   "execution_count": 43,
   "metadata": {},
   "outputs": [
    {
     "name": "stdout",
     "output_type": "stream",
     "text": [
      "正在进行coding...<CodingThread(Thread-36, started 14736)>\n",
      "正在进行drawing...<DrawingThread(Thread-37, started 24392)>\n",
      "正在进行coding...<CodingThread(Thread-36, started 14736)>\n",
      "正在进行drawing...<DrawingThread(Thread-37, started 24392)>\n",
      "正在进行coding...<CodingThread(Thread-36, started 14736)>\n",
      "正在进行drawing...<DrawingThread(Thread-37, started 24392)>\n"
     ]
    }
   ],
   "source": [
    "class CodingThread(threading.Thread):\n",
    "    # run是固定的\n",
    "    def run(self):\n",
    "        for x in range(3):\n",
    "            print('正在进行coding...%s' %threading.current_thread())\n",
    "            time.sleep(1)\n",
    "        \n",
    "class DrawingThread(threading.Thread):\n",
    "    def run(self):\n",
    "        for x in range(3):\n",
    "            print('正在进行drawing...%s' %threading.current_thread())\n",
    "            time.sleep(1)\n",
    "        \n",
    "def main():\n",
    "    t1 = CodingThread()\n",
    "    t2 = DrawingThread()\n",
    "    \n",
    "    t1.start()\n",
    "    t2.start()\n",
    "    \n",
    "if __name__ == '__main__':\n",
    "    main()   "
   ]
  },
  {
   "cell_type": "markdown",
   "metadata": {},
   "source": [
    "### 多线程共享全局变量的问题"
   ]
  },
  {
   "cell_type": "code",
   "execution_count": 58,
   "metadata": {},
   "outputs": [
    {
     "name": "stdout",
     "output_type": "stream",
     "text": [
      "value: 1345566\n",
      "value: 1398567\n"
     ]
    }
   ],
   "source": [
    "VALUE = 0\n",
    "\n",
    "def add_value():\n",
    "    global VALUE\n",
    "    for x in range(1000000):\n",
    "        VALUE += 1\n",
    "    print('value:',VALUE)\n",
    "        \n",
    "def main():\n",
    "    for x in range(2):\n",
    "        t = threading.Thread(target=add_value)\n",
    "        t.start()\n",
    "        \n",
    "if __name__ == '__main__':\n",
    "    main() "
   ]
  },
  {
   "cell_type": "markdown",
   "metadata": {},
   "source": [
    "#### \"上锁\""
   ]
  },
  {
   "cell_type": "code",
   "execution_count": 59,
   "metadata": {},
   "outputs": [
    {
     "name": "stdout",
     "output_type": "stream",
     "text": [
      "value: 1000000\n",
      "value: 2000000\n"
     ]
    }
   ],
   "source": [
    "VALUE = 0\n",
    "\n",
    "gLock = threading.Lock()\n",
    "\n",
    "def add_value():\n",
    "    global VALUE\n",
    "    ##############\n",
    "    gLock.acquire()\n",
    "    for x in range(1000000):\n",
    "        VALUE += 1\n",
    "    gLock.release()\n",
    "    ##############\n",
    "    print('value:',VALUE)\n",
    "        \n",
    "def main():\n",
    "    for x in range(2):\n",
    "        t = threading.Thread(target=add_value)\n",
    "        t.start()\n",
    "        \n",
    "if __name__ == '__main__':\n",
    "    main() "
   ]
  },
  {
   "cell_type": "markdown",
   "metadata": {},
   "source": [
    "### Lock版本生产者和消费者"
   ]
  },
  {
   "cell_type": "code",
   "execution_count": 3,
   "metadata": {},
   "outputs": [],
   "source": [
    "import random\n",
    "import threading\n",
    "import time"
   ]
  },
  {
   "cell_type": "code",
   "execution_count": 7,
   "metadata": {},
   "outputs": [
    {
     "name": "stdout",
     "output_type": "stream",
     "text": [
      "消费者<Consumer(消费者线程0, started 19148)>消费了601元钱，剩余399元钱\n",
      "<Consumer(消费者线程1, started 13964)>消费者准备消费623元钱，剩余399元钱，不足！！！\n",
      "消费者<Consumer(消费者线程2, started 39236)>消费了166元钱，剩余233元钱\n",
      "<Consumer(消费者线程3, started 20636)>消费者准备消费874元钱，剩余233元钱，不足！！！\n",
      "<Consumer(消费者线程4, started 46692)>消费者准备消费353元钱，剩余233元钱，不足！！！\n",
      "生产者<Producer(生产者线程0, started 944)>生产了350元钱，剩余583元钱\n",
      "生产者<Producer(生产者线程1, started 32844)>生产了163元钱，剩余746元钱\n",
      "生产者<Producer(生产者线程2, started 32532)>生产了994元钱，剩余1740元钱\n",
      "生产者<Producer(生产者线程3, started 15048)>生产了283元钱，剩余2023元钱\n",
      "生产者<Producer(生产者线程4, started 22832)>生产了604元钱，剩余2627元钱\n",
      "消费者<Consumer(消费者线程0, started 19148)>消费了971元钱，剩余1656元钱\n",
      "消费者<Consumer(消费者线程1, started 13964)>消费了838元钱，剩余818元钱\n",
      "消费者<Consumer(消费者线程2, started 39236)>消费了479元钱，剩余339元钱\n",
      "<Consumer(消费者线程3, started 20636)>消费者准备消费994元钱，剩余339元钱，不足！！！\n",
      "<Consumer(消费者线程4, started 46692)>消费者准备消费793元钱，剩余339元钱，不足！！！\n",
      "生产者<Producer(生产者线程0, started 944)>生产了761元钱，剩余1100元钱\n",
      "生产者<Producer(生产者线程1, started 32844)>生产了387元钱，剩余1487元钱\n",
      "生产者<Producer(生产者线程2, started 32532)>生产了187元钱，剩余1674元钱\n",
      "生产者<Producer(生产者线程3, started 15048)>生产了759元钱，剩余2433元钱\n",
      "生产者<Producer(生产者线程4, started 22832)>生产了741元钱，剩余3174元钱\n",
      "消费者<Consumer(消费者线程0, started 19148)>消费了455元钱，剩余2719元钱\n",
      "消费者<Consumer(消费者线程1, started 13964)>消费了204元钱，剩余2515元钱\n",
      "消费者<Consumer(消费者线程2, started 39236)>消费了791元钱，剩余1724元钱\n",
      "消费者<Consumer(消费者线程3, started 20636)>消费了647元钱，剩余1077元钱\n",
      "消费者<Consumer(消费者线程4, started 46692)>消费了662元钱，剩余415元钱\n",
      "消费者<Consumer(消费者线程0, started 19148)>消费了323元钱，剩余92元钱\n"
     ]
    }
   ],
   "source": [
    "gMoney = 1000\n",
    "gLock = threading.Lock()\n",
    "gTotalTimes = 10\n",
    "gTimes = 0\n",
    "\n",
    "class Producer(threading.Thread):\n",
    "    def run(self):\n",
    "        global gMoney\n",
    "        global gTimes\n",
    "        while True:\n",
    "            money = random.randint(100,1000)\n",
    "            gLock.acquire()\n",
    "            if gTimes >= 10:\n",
    "                gLock.release()\n",
    "                break\n",
    "            gMoney += money\n",
    "            gTimes += 1\n",
    "            gLock.release()\n",
    "            print('生产者%s生产了%d元钱，剩余%d元钱'%(threading.current_thread(), money, gMoney))\n",
    "            time.sleep(0.5)\n",
    "            \n",
    "class Consumer(threading.Thread):\n",
    "    def run(self):\n",
    "        global gMoney\n",
    "        while True:\n",
    "            money = random.randint(100,1000)\n",
    "            gLock.acquire()\n",
    "            if gMoney >= money:\n",
    "                gMoney -= money\n",
    "                print('消费者%s消费了%d元钱，剩余%d元钱'%(threading.current_thread(), money, gMoney))\n",
    "            else:\n",
    "                if gTimes >= gTotalTimes:\n",
    "                    gLock.release()\n",
    "                    break\n",
    "                print('%s消费者准备消费%d元钱，剩余%d元钱，不足！！！'%(threading.current_thread(), money, gMoney))\n",
    "            gLock.release()\n",
    "            time.sleep(0.5)\n",
    "            \n",
    "def main():\n",
    "    for x in range(5):\n",
    "        t = Consumer(name='消费者线程%d'%x)\n",
    "        t.start()\n",
    "        \n",
    "    for x in range(5):\n",
    "        t = Producer(name='生产者线程%d'%x)\n",
    "        t.start()\n",
    "\n",
    "        \n",
    "if __name__ == '__main__':\n",
    "    main()         "
   ]
  },
  {
   "cell_type": "code",
   "execution_count": 11,
   "metadata": {},
   "outputs": [
    {
     "name": "stdout",
     "output_type": "stream",
     "text": [
      "消费者<Consumer(消费者线程0, started 13012)>消费了703元钱，剩余297元钱\n",
      "<Consumer(消费者线程1, started 20484)>消费者准备消费440元钱，剩余297元钱，不足！！！\n",
      "<Consumer(消费者线程2, started 37272)>消费者准备消费353元钱，剩余297元钱，不足！！！\n",
      "生产者<Producer(生产者线程0, started 22096)>生产了804元钱，剩余1101元钱\n",
      "消费者<Consumer(消费者线程1, started 20484)>消费了440元钱，剩余661元钱\n",
      "消费者<Consumer(消费者线程2, started 37272)>消费了353元钱，剩余308元钱\n",
      "生产者<Producer(生产者线程1, started 10444)>生产了311元钱，剩余619元钱\n",
      "生产者<Producer(生产者线程2, started 32340)>生产了385元钱，剩余1004元钱\n",
      "生产者<Producer(生产者线程3, started 37236)>生产了182元钱，剩余1186元钱\n",
      "生产者<Producer(生产者线程4, started 17752)>生产了504元钱，剩余1690元钱\n",
      "消费者<Consumer(消费者线程0, started 13012)>消费了111元钱，剩余1579元钱\n",
      "消费者<Consumer(消费者线程2, started 37272)>消费了804元钱，剩余775元钱\n",
      "生产者<Producer(生产者线程0, started 22096)>生产了106元钱，剩余881元钱消费者<Consumer(消费者线程1, started 20484)>消费了570元钱，剩余311元钱\n",
      "\n",
      "生产者<Producer(生产者线程1, started 10444)>生产了517元钱，剩余828元钱\n",
      "生产者<Producer(生产者线程2, started 32340)>生产了475元钱，剩余1303元钱\n",
      "生产者<Producer(生产者线程3, started 37236)>生产了487元钱，剩余1790元钱\n",
      "生产者<Producer(生产者线程4, started 17752)>生产了385元钱，剩余2175元钱\n",
      "消费者<Consumer(消费者线程0, started 13012)>消费了691元钱，剩余1484元钱\n",
      "消费者<Consumer(消费者线程2, started 37272)>消费了838元钱，剩余646元钱\n",
      "消费者<Consumer(消费者线程1, started 20484)>消费了142元钱，剩余504元钱\n",
      "消费者<Consumer(消费者线程0, started 13012)>消费了490元钱，剩余14元钱\n"
     ]
    }
   ],
   "source": [
    "gMoney = 1000\n",
    "gCondition = threading.Condition()\n",
    "gTotalTimes = 10\n",
    "gTimes = 0\n",
    "\n",
    "class Producer(threading.Thread):\n",
    "    def run(self):\n",
    "        global gMoney\n",
    "        global gTimes\n",
    "        while True:\n",
    "            money = random.randint(100,1000)\n",
    "            gCondition.acquire()\n",
    "            if gTimes >= gTotalTimes:\n",
    "                gCondition.release()\n",
    "                break\n",
    "            gMoney += money\n",
    "            gTimes += 1\n",
    "            gCondition.notify_all()\n",
    "            gCondition.release()\n",
    "            print('生产者%s生产了%d元钱，剩余%d元钱'%(threading.current_thread(), money, gMoney))\n",
    "            time.sleep(0.5)\n",
    "            \n",
    "class Consumer(threading.Thread):\n",
    "    def run(self):\n",
    "        global gMoney\n",
    "        while True:\n",
    "            money = random.randint(100,1000)\n",
    "            gCondition.acquire()\n",
    "            while gMoney <  money:\n",
    "                if gTimes >= gTotalTimes:\n",
    "                    gCondition.release()\n",
    "                    return\n",
    "                print('%s消费者准备消费%d元钱，剩余%d元钱，不足！！！'%(threading.current_thread(), money, gMoney))\n",
    "                gCondition.wait()\n",
    "            gMoney -= money\n",
    "            print('消费者%s消费了%d元钱，剩余%d元钱'%(threading.current_thread(), money, gMoney))\n",
    "            gCondition.release()\n",
    "            time.sleep(0.5)\n",
    "            \n",
    "def main():\n",
    "    for x in range(3):\n",
    "        t = Consumer(name='消费者线程%d'%x)\n",
    "        t.start()\n",
    "        \n",
    "    for x in range(5):\n",
    "        t = Producer(name='生产者线程%d'%x)\n",
    "        t.start()\n",
    "\n",
    "        \n",
    "if __name__ == '__main__':\n",
    "    main()         "
   ]
  },
  {
   "cell_type": "code",
   "execution_count": null,
   "metadata": {},
   "outputs": [],
   "source": []
  }
 ],
 "metadata": {
  "kernelspec": {
   "display_name": "Python 3",
   "language": "python",
   "name": "python3"
  },
  "language_info": {
   "codemirror_mode": {
    "name": "ipython",
    "version": 3
   },
   "file_extension": ".py",
   "mimetype": "text/x-python",
   "name": "python",
   "nbconvert_exporter": "python",
   "pygments_lexer": "ipython3",
   "version": "3.7.6"
  }
 },
 "nbformat": 4,
 "nbformat_minor": 4
}
