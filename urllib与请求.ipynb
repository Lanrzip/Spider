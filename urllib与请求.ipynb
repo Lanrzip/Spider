{
 "cells": [
  {
   "cell_type": "code",
   "execution_count": 1,
   "metadata": {},
   "outputs": [],
   "source": [
    "from urllib import request"
   ]
  },
  {
   "cell_type": "markdown",
   "metadata": {},
   "source": [
    "#### request.urlopen 函数："
   ]
  },
  {
   "cell_type": "code",
   "execution_count": 2,
   "metadata": {},
   "outputs": [
    {
     "name": "stdout",
     "output_type": "stream",
     "text": [
      "b'<!DOCTYPE '\n",
      "200\n"
     ]
    }
   ],
   "source": [
    "resp = request.urlopen(\"http://www.baidu.com\")\n",
    "print(resp.read(10))\n",
    "# print(resp.readline())\n",
    "# print(resp.readlines())\n",
    "print(resp.getcode())"
   ]
  },
  {
   "cell_type": "markdown",
   "metadata": {},
   "source": [
    "#### request.urlretrieve 函数：\n",
    "这个函数可以方便的将网页上的一个文件保存到本地。以下代码可以非常方便的将百度的首\n",
    "页下载到本地："
   ]
  },
  {
   "cell_type": "code",
   "execution_count": 3,
   "metadata": {},
   "outputs": [
    {
     "data": {
      "text/plain": [
       "('baidu.html', <http.client.HTTPMessage at 0x2bb8f6681c8>)"
      ]
     },
     "execution_count": 3,
     "metadata": {},
     "output_type": "execute_result"
    }
   ],
   "source": [
    "request.urlretrieve('http://www.baidu.com', 'baidu.html')"
   ]
  },
  {
   "cell_type": "markdown",
   "metadata": {},
   "source": [
    "#### parse.urlencode 函数：\n",
    "用浏览器发送请求的时候，如果 url 中包含了中文或者其他特殊字符，那么浏览器会自动的\n",
    "给我们进行编码。而如果使用代码发送请求，那么就必须手动的进行编码，这时候就应该使\n",
    "用 urlencode 函数来实现。 urlencode 可以把字典数据转换为 URL 编码的数据。示例代码如\n",
    "下："
   ]
  },
  {
   "cell_type": "code",
   "execution_count": 4,
   "metadata": {},
   "outputs": [
    {
     "name": "stdout",
     "output_type": "stream",
     "text": [
      "name=%E5%BC%A0%E4%B8%89&age=18&slogan=Hello+world\n"
     ]
    }
   ],
   "source": [
    "from urllib import parse\n",
    "dic1 = {'name': '张三', 'age' : '18', 'slogan' : \"Hello world\"}\n",
    "print(parse.urlencode(dic1))"
   ]
  },
  {
   "cell_type": "code",
   "execution_count": 5,
   "metadata": {},
   "outputs": [
    {
     "name": "stdout",
     "output_type": "stream",
     "text": [
      "wd=%E5%88%98%E5%BE%B7%E5%8D%8E\n",
      "b'<!DOCTYPE '\n"
     ]
    }
   ],
   "source": [
    "url = 'http://www.baidu.com/s'\n",
    "\n",
    "params = {'wd' : '刘德华'}\n",
    "qs = parse.urlencode(params)\n",
    "print(qs)\n",
    "\n",
    "url = url + '?' + qs\n",
    "resp = request.urlopen(url)\n",
    "print(resp.read(10))"
   ]
  },
  {
   "cell_type": "markdown",
   "metadata": {},
   "source": [
    "#### prase.parse_qs 函数：\n",
    "可以将经过编码后的 url 参数进行解码。"
   ]
  },
  {
   "cell_type": "code",
   "execution_count": 6,
   "metadata": {},
   "outputs": [
    {
     "data": {
      "text/plain": [
       "{' name': ['张三'], 'age': ['18'], 'slogan': ['Hello world ']}"
      ]
     },
     "execution_count": 6,
     "metadata": {},
     "output_type": "execute_result"
    }
   ],
   "source": [
    "from urllib import parse\n",
    "qs = \" name=%E5%BC%A0%E4%B8%89&age=18&slogan=Hello+world \"\n",
    "parse.parse_qs(qs)"
   ]
  },
  {
   "cell_type": "markdown",
   "metadata": {},
   "source": [
    "#### parse.urlparse 和 parse.urlsplit 函数：\n",
    "有时候拿到一个 url，想要对这个 url 中的各个组成部分进行分割，那么这时候就可以使用\n",
    "urlparse 或者是 urlsplit 来进行分割。示例代码如下："
   ]
  },
  {
   "cell_type": "code",
   "execution_count": 7,
   "metadata": {},
   "outputs": [
    {
     "name": "stdout",
     "output_type": "stream",
     "text": [
      "ParseResult(scheme='http', netloc='baidu.com', path='/s', params='', query='wd=python&username=abc', fragment='1')\n",
      "---------------分割---------------\n",
      "scheme: http\n",
      "netloc: baidu.com\n"
     ]
    }
   ],
   "source": [
    "url = 'http://baidu.com/s?wd=python&username=abc#1'\n",
    "\n",
    "result = parse.urlparse(url)\n",
    "print(result)\n",
    "print('---------------分割---------------')\n",
    "print('scheme:', result.scheme)\n",
    "print('netloc:', result.netloc)"
   ]
  },
  {
   "cell_type": "code",
   "execution_count": 8,
   "metadata": {},
   "outputs": [
    {
     "data": {
      "text/plain": [
       "SplitResult(scheme='http', netloc='baidu.com', path='/s', query='wd=python&username=abc', fragment='1')"
      ]
     },
     "execution_count": 8,
     "metadata": {},
     "output_type": "execute_result"
    }
   ],
   "source": [
    "# 没有params\n",
    "parse.urlsplit(url)"
   ]
  },
  {
   "cell_type": "markdown",
   "metadata": {},
   "source": [
    "#### request.Request 类：\n",
    "如果想要在请求的时候增加一些请求头，那么就必须使用 request.Request 类来实现。比如\n",
    "要增加一个 User-Agent，示例代码如下："
   ]
  },
  {
   "cell_type": "code",
   "execution_count": 9,
   "metadata": {},
   "outputs": [],
   "source": [
    "from urllib import request"
   ]
  },
  {
   "cell_type": "code",
   "execution_count": 10,
   "metadata": {},
   "outputs": [
    {
     "data": {
      "text/plain": [
       "b'/*!common/components/util/htoc.js*/\\n;define(\"common/components/util/htoc\",[\"require\",\"exports\",\"modu'"
      ]
     },
     "execution_count": 10,
     "metadata": {},
     "output_type": "execute_result"
    }
   ],
   "source": [
    "url = 'https://www.lgstatic.com/lg-www-fed/pkg/search-result/page/index/main.html_aio_743b85d.js'\n",
    "\n",
    "headers = {\n",
    "    'User-Agent':'Mozilla/5.0 (Windows NT 10.0; Win64; x64) AppleWebKit/537.36 (KHTML, like Gecko) Chrome/81.0.4044.129 Safari/537.36'\n",
    "}\n",
    "req = request.Request(url, headers=headers)\n",
    "resp = request.urlopen(req)\n",
    "resp.read(100)"
   ]
  },
  {
   "cell_type": "markdown",
   "metadata": {},
   "source": [
    "### 代理"
   ]
  },
  {
   "cell_type": "code",
   "execution_count": 19,
   "metadata": {},
   "outputs": [],
   "source": [
    "# 不使用代理\n",
    "url = 'http://httpbin.org/ip'\n",
    "resp = request.urlopen(url)\n",
    "#print(\"不使用代理：\", resp.read())\n",
    "\n",
    "# 使用代理\n",
    "# handler = request.ProxyHandler({'http':'163.204.241.69:9999'})\n",
    "\n",
    "# opener = request.build_opener(handler)\n",
    "# resp2 = opener.open(url)\n",
    "# print(\"使用代理：\", resp2.read())"
   ]
  },
  {
   "cell_type": "markdown",
   "metadata": {},
   "source": [
    "### cookie"
   ]
  },
  {
   "cell_type": "code",
   "execution_count": 30,
   "metadata": {},
   "outputs": [],
   "source": [
    "from urllib import request\n",
    "# 不使用cookie\n",
    "dapeng_url = 'http://www.renren.com/880151247/profile'\n",
    "headers = {\n",
    "    'User-Agent' : \"Mozilla/5.0 (Windows NT 10.0; Win64; x64) AppleWebKit/537.36 (KHTML, like Gecko) Chrome/81.0.4044.129 Safari/537.36\"\n",
    "}\n",
    "req = request.Request(url=dapeng_url, headers=headers)\n",
    "resp = request.urlopen(req)\n",
    "#print(resp.read().decode('utf-8'))  # 尝试搜索大鹏是搜不到的\n",
    "with open('renren.html', 'w') as fp:\n",
    "    # resp.read()返回的是一个bytes编码对象\n",
    "    fp.write(resp.read().decode('utf-8'))"
   ]
  },
  {
   "cell_type": "markdown",
   "metadata": {},
   "source": [
    "#### http.cookiejar 模块"
   ]
  },
  {
   "cell_type": "markdown",
   "metadata": {},
   "source": [
    "- CookieJar：管理 HTTP cookie 值、存储 HTTP 请求生成的 cookie、向传出的 HTTP 请求\n",
    "添加 cookie 的对象。整个 cookie 都存储在内存中，对 CookieJar 实例进行垃圾回收后 cookie\n",
    "也将丢失。\n",
    "- FileCookieJar (filename,delayload=None,policy=None)：从 CookieJar 派生而来，用来创\n",
    "建 FileCookieJar 实例，检索 cookie 信息并将 cookie 存储到文件中。 filename 是存储 cookie\n",
    "的文件名。 delayload 为 True 时支持延迟访问访问文件，即只有在需要时才读取文件或在文\n",
    "件中存储数据。\n",
    "- MozillaCookieJar (filename,delayload=None,policy=None)：从 FileCookieJar 派生而来，\n",
    "创建与 Mozilla 浏览器 cookies.txt 兼容的 FileCookieJar 实例。\n",
    "- LWPCookieJar (filename,delayload=None,policy=None)：从 FileCookieJar 派生而来，创\n",
    "建与 libwww-perl 标准的 Set-Cookie3 文件格式兼容的 FileCookieJar 实例。"
   ]
  },
  {
   "cell_type": "code",
   "execution_count": 37,
   "metadata": {},
   "outputs": [],
   "source": [
    "from urllib import request, parse\n",
    "from http.cookiejar import CookieJar\n",
    "\n",
    "# 1.建立opener\n",
    "cookiejar = CookieJar()\n",
    "handler = request.HTTPCookieProcessor(cookiejar)\n",
    "opener = request.build_opener(handler)\n",
    "\n",
    "# 2.登录\n",
    "headers = {\n",
    "    'User-Agent' : \"Mozilla/5.0 (Windows NT 10.0; Win64; x64) AppleWebKit/537.36 (KHTML, like Gecko) Chrome/81.0.4044.129 Safari/537.36\"\n",
    "}\n",
    "data = {\n",
    "    'email':'18653195606',\n",
    "    'password':'skd158'\n",
    "}\n",
    "login_url = 'http://www.renren.com/PLogin.do'\n",
    "req = request.Request(url=login_url, headers=headers, data=parse.urlencode(data).encode('utf-8'))\n",
    "opener.open(req)\n",
    "\n",
    "\n",
    "# 3.访问个人主页\n",
    "dapeng_url = 'http://www.renren.com/880151247/profile'\n",
    "req = request.Request(dapeng_url, headers=headers)\n",
    "resp = opener.open(req)\n",
    "with open('renren.html', 'w', encoding='utf-8') as fp:\n",
    "    fp.write(resp.read().decode('utf-8'))"
   ]
  },
  {
   "cell_type": "markdown",
   "metadata": {},
   "source": [
    "#### cookie保存到本地"
   ]
  },
  {
   "cell_type": "code",
   "execution_count": 1,
   "metadata": {},
   "outputs": [],
   "source": [
    "from http.cookiejar import MozillaCookieJar\n",
    "from urllib import request"
   ]
  },
  {
   "cell_type": "code",
   "execution_count": 2,
   "metadata": {},
   "outputs": [],
   "source": [
    "cookiejar = MozillaCookieJar()\n",
    "handler = request.HTTPCookieProcessor(cookiejar)\n",
    "opener = request.build_opener(handler)\n",
    "\n",
    "resp = opener.open('http://www.baidu.com')\n",
    "\n",
    "cookiejar.save('cookie.txt')"
   ]
  },
  {
   "cell_type": "code",
   "execution_count": 3,
   "metadata": {},
   "outputs": [],
   "source": [
    "cookiejar = MozillaCookieJar()\n",
    "handler = request.HTTPCookieProcessor(cookiejar)\n",
    "opener = request.build_opener(handler)\n",
    "\n",
    "resp = opener.open('http://httpbin.org/cookies/set?course=abcde')\n",
    "\n",
    "# 保存cookie信息\n",
    "# ignore_discard 的意思是即使 cookies 将被丢弃也将它保存下来\n",
    "cookiejar.save('cookie1.txt', ignore_discard=True)"
   ]
  },
  {
   "cell_type": "code",
   "execution_count": 7,
   "metadata": {},
   "outputs": [
    {
     "name": "stdout",
     "output_type": "stream",
     "text": [
      "<Cookie course=abcde for httpbin.org/>\n"
     ]
    }
   ],
   "source": [
    "cookiejar = MozillaCookieJar('cookie1.txt')\n",
    "cookiejar.load(ignore_discard=True)\n",
    "handler = request.HTTPCookieProcessor(cookiejar)\n",
    "opener = request.build_opener(handler)\n",
    "\n",
    "resp = opener.open('http://httpbin.org/cookies')\n",
    "for cookie in cookiejar:\n",
    "    print(cookie)"
   ]
  }
 ],
 "metadata": {
  "kernelspec": {
   "display_name": "Python 3",
   "language": "python",
   "name": "python3"
  },
  "language_info": {
   "codemirror_mode": {
    "name": "ipython",
    "version": 3
   },
   "file_extension": ".py",
   "mimetype": "text/x-python",
   "name": "python",
   "nbconvert_exporter": "python",
   "pygments_lexer": "ipython3",
   "version": "3.7.6"
  }
 },
 "nbformat": 4,
 "nbformat_minor": 4
}
