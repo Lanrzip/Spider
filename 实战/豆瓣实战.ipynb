{
 "cells": [
  {
   "cell_type": "code",
   "execution_count": 1,
   "metadata": {},
   "outputs": [],
   "source": [
    "import requests\n",
    "from lxml import etree"
   ]
  },
  {
   "cell_type": "code",
   "execution_count": 1,
   "metadata": {
    "execution": {
     "iopub.execute_input": "2020-07-29T13:31:48.824945Z",
     "iopub.status.busy": "2020-07-29T13:31:48.824945Z",
     "iopub.status.idle": "2020-07-29T13:31:48.830901Z",
     "shell.execute_reply": "2020-07-29T13:31:48.829931Z",
     "shell.execute_reply.started": "2020-07-29T13:31:48.824945Z"
    }
   },
   "outputs": [],
   "source": [
    "headers = {\n",
    "    'User-Agent':'Mozilla/5.0 (Windows NT 10.0; Win64; x64) AppleWebKit/537.36 (KHTML, like Gecko) Chrome/81.0.4044.129 Safari/537.36',\n",
    "    'Referer':'https://movie.douban.com/cinema/nowplaying/changsha/'\n",
    "}\n",
    "url = 'https://movie.douban.com/cinema/nowplaying/changsha/'\n",
    "response = requests.get(url, headers=headers)\n",
    "# response.text返回经过解码后的str类型的字符串\n",
    "# response.content返回原生bytes类型的字符串\n",
    "text = response.text\n",
    "\n",
    "html = etree.HTML(text)\n",
    "ul = html.xpath(\"//ul[@class='lists']\")[1]  # 正在上映的\n",
    "lis = ul.xpath(\"./li\")\n",
    "movies = []\n",
    "for li in lis:\n",
    "    title = li.xpath(\"@data-title\")[0]\n",
    "    score = li.xpath(\"@data-score\")[0]\n",
    "    duration = li.xpath(\"@data-duration\")[0]\n",
    "    region = li.xpath(\"@data-region\")[0]\n",
    "    director = li.xpath(\"@data-director\")[0]\n",
    "    actors = li.xpath(\"@data-actors\")[0]\n",
    "    image = li.xpath(\".//img/@src\")[0]\n",
    "    movie = {\n",
    "        'title':title,\n",
    "        'score':score,\n",
    "        'duration':duration,\n",
    "        'region':region,\n",
    "        'director':director,\n",
    "        'actors':actors,\n",
    "        'image':image\n",
    "    }\n",
    "    movies.append(movie)\n",
    "print(movies)"
   ]
  },
  {
   "cell_type": "code",
   "execution_count": null,
   "metadata": {},
   "outputs": [],
   "source": []
  }
 ],
 "metadata": {
  "kernelspec": {
   "display_name": "Python 3",
   "language": "python",
   "name": "python3"
  },
  "language_info": {
   "codemirror_mode": {
    "name": "ipython",
    "version": 3
   },
   "file_extension": ".py",
   "mimetype": "text/x-python",
   "name": "python",
   "nbconvert_exporter": "python",
   "pygments_lexer": "ipython3",
   "version": "3.7.7"
  }
 },
 "nbformat": 4,
 "nbformat_minor": 4
}
