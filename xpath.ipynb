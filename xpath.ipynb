{
 "cells": [
  {
   "cell_type": "code",
   "execution_count": 1,
   "metadata": {},
   "outputs": [],
   "source": [
    "from lxml import etree"
   ]
  },
  {
   "cell_type": "code",
   "execution_count": 2,
   "metadata": {},
   "outputs": [],
   "source": [
    "text = \"\"\"\n",
    "<div>\n",
    "    <ul>\n",
    "        <li class=\"item-0\"><a href=\"link1.html\">first item</a></li>\n",
    "        <li class=\"item-1\"><a href=\"link2.html\">second item</a></li>\n",
    "        <li class=\"item-inactive\"><a href=\"link3.html\">third item</a></li>\n",
    "        <li class=\"item-1\"><a href=\"link4.html\">第四项</a></li>\n",
    "        <li class=\"item-0\"><a href=\"link5.html\">第五项</a>\n",
    "    </ul>\n",
    "</div>\n",
    "\"\"\""
   ]
  },
  {
   "cell_type": "code",
   "execution_count": 25,
   "metadata": {},
   "outputs": [
    {
     "name": "stdout",
     "output_type": "stream",
     "text": [
      "<class 'lxml.etree._Element'>\n",
      "<Element html at 0x1b3fc473988>\n"
     ]
    }
   ],
   "source": [
    "#利用 etree.HTML，将字符串解析为 HTML 文档\n",
    "htmlElement = etree.HTML(text)\n",
    "print(type(htmlElement))\n",
    "print(htmlElement)"
   ]
  },
  {
   "cell_type": "code",
   "execution_count": 4,
   "metadata": {},
   "outputs": [
    {
     "name": "stdout",
     "output_type": "stream",
     "text": [
      "<html><body><div>\n",
      "    <ul>\n",
      "        <li class=\"item-0\"><a href=\"link1.html\">first item</a></li>\n",
      "        <li class=\"item-1\"><a href=\"link2.html\">second item</a></li>\n",
      "        <li class=\"item-inactive\"><a href=\"link3.html\">third item</a></li>\n",
      "        <li class=\"item-1\"><a href=\"link4.html\">第四项</a></li>\n",
      "        <li class=\"item-0\"><a href=\"link5.html\">第五项</a>\n",
      "    </li></ul>\n",
      "</div>\n",
      "</body></html>\n"
     ]
    }
   ],
   "source": [
    "# 按字符串序列化 HTML 文档\n",
    "print(etree.tostring(htmlElement, encoding='utf-8').decode('utf-8'))"
   ]
  },
  {
   "cell_type": "markdown",
   "metadata": {},
   "source": [
    "lxml 会自动修改 HTML 代码。例子中不仅补全了 li 标签，还添加了 body， html标签。"
   ]
  },
  {
   "cell_type": "markdown",
   "metadata": {},
   "source": [
    "#### 从文件中读取html"
   ]
  },
  {
   "cell_type": "code",
   "execution_count": 12,
   "metadata": {},
   "outputs": [],
   "source": [
    "#使用 html 的解析器来解析 Html 文件\n",
    "parser = etree.HTMLParser(encoding='utf-8')  # 处理不规范html\n",
    "html = etree.parse('lagou.html', parser=parser)\n",
    "#print(etree.tostring(html, encoding='utf-8').decode('utf-8'))"
   ]
  },
  {
   "cell_type": "code",
   "execution_count": 14,
   "metadata": {},
   "outputs": [
    {
     "name": "stdout",
     "output_type": "stream",
     "text": [
      "[<Element li at 0x1b3fc394648>, <Element li at 0x1b3fc394488>, <Element li at 0x1b3fc394608>, <Element li at 0x1b3fc394108>, <Element li at 0x1b3fc394248>, <Element li at 0x1b3fc394348>, <Element li at 0x1b3fc3942c8>, <Element li at 0x1b3fc3941c8>, <Element li at 0x1b3fc394148>, <Element li at 0x1b3fc394288>, <Element li at 0x1b3fc394048>, <Element li at 0x1b3fc3943c8>, <Element li at 0x1b3fc394448>, <Element li at 0x1b3fc394708>, <Element li at 0x1b3fc394788>]\n"
     ]
    }
   ],
   "source": [
    "#xpath函数返回一个列表\n",
    "lis = html.xpath(\"//li\")\n",
    "print(lis)"
   ]
  },
  {
   "cell_type": "code",
   "execution_count": 20,
   "metadata": {},
   "outputs": [],
   "source": [
    "# 打印元素内容\n",
    "# for li in lis:\n",
    "#     print(etree.tostring(li, encoding='utf-8').decode('utf-8'))"
   ]
  },
  {
   "cell_type": "code",
   "execution_count": 24,
   "metadata": {},
   "outputs": [
    {
     "data": {
      "text/plain": [
       "[<Element li at 0x1b3fc394488>]"
      ]
     },
     "execution_count": 24,
     "metadata": {},
     "output_type": "execute_result"
    }
   ],
   "source": [
    "# 获取第二个li标签\n",
    "html.xpath(\"//li[2]\")"
   ]
  },
  {
   "cell_type": "code",
   "execution_count": 33,
   "metadata": {},
   "outputs": [
    {
     "data": {
      "text/plain": [
       "<Element div at 0x1b3fc3f02c8>"
      ]
     },
     "execution_count": 33,
     "metadata": {},
     "output_type": "execute_result"
    }
   ],
   "source": [
    "# class='company'的div标签\n",
    "html.xpath(\"//div[@class='company']\")[0]"
   ]
  },
  {
   "cell_type": "code",
   "execution_count": 34,
   "metadata": {},
   "outputs": [
    {
     "name": "stdout",
     "output_type": "stream",
     "text": [
      "https://www.lagou.com/jobs/6844607.html?show=7a24ec702c94482da5390aced88913a9\n"
     ]
    }
   ],
   "source": [
    "# 此处不需要解析成字符串\n",
    "alist = html.xpath(\"//a/@href\")\n",
    "print(alist[0])"
   ]
  }
 ],
 "metadata": {
  "kernelspec": {
   "display_name": "Python 3",
   "language": "python",
   "name": "python3"
  },
  "language_info": {
   "codemirror_mode": {
    "name": "ipython",
    "version": 3
   },
   "file_extension": ".py",
   "mimetype": "text/x-python",
   "name": "python",
   "nbconvert_exporter": "python",
   "pygments_lexer": "ipython3",
   "version": "3.7.7"
  }
 },
 "nbformat": 4,
 "nbformat_minor": 4
}
