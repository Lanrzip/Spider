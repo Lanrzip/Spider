{
 "cells": [
  {
   "cell_type": "code",
   "execution_count": 31,
   "metadata": {},
   "outputs": [],
   "source": [
    "import requests\n",
    "from lxml import etree\n",
    "from urllib import request\n",
    "import os\n",
    "import re"
   ]
  },
  {
   "cell_type": "markdown",
   "metadata": {},
   "source": [
    "## 传统方式爬取https://www.doutula.com"
   ]
  },
  {
   "cell_type": "code",
   "execution_count": 39,
   "metadata": {},
   "outputs": [],
   "source": [
    "def parse_page(url):\n",
    "    headers = {\n",
    "    'User-Agent':'Mozilla/5.0 (Windows NT 10.0; Win64; x64) AppleWebKit/537.36 (KHTML, like Gecko) Chrome/81.0.4044.129 Safari/537.36',\n",
    "    }\n",
    "    response = requests.get(url, headers=headers)\n",
    "    text = response.text\n",
    "    html = etree.HTML(text)\n",
    "    imgs = html.xpath(\"//div[@class='page-content text-center']//img[@class!='gif']\")\n",
    "    for img in imgs:\n",
    "        img_url = img.get('data-original')\n",
    "        img_name = img.get('alt')\n",
    "        ## 去除指定符号\n",
    "        img_name = re.sub(r'[\\\\/:\\*\\?\\'\\\"\\<\\>\\|]', '', img_name)\n",
    "        ## 获取后缀名\n",
    "        suffix = os.path.splitext(img_url)[1]  \n",
    "        file_name = img_name + suffix\n",
    "        ## 下载链接\n",
    "        request.urlretrieve(img_url, 'images/'+file_name)\n",
    "        \n",
    "def main():\n",
    "    for x in range(1,10):\n",
    "        url = 'https://www.doutula.com/photo/list/?page=%d' % x\n",
    "        parse_page(url)\n",
    "\n",
    "# main()"
   ]
  },
  {
   "cell_type": "markdown",
   "metadata": {},
   "source": [
    "## 使用多线程"
   ]
  },
  {
   "cell_type": "code",
   "execution_count": 41,
   "metadata": {},
   "outputs": [],
   "source": [
    "from queue import Queue\n",
    "import threading"
   ]
  },
  {
   "cell_type": "code",
   "execution_count": 45,
   "metadata": {},
   "outputs": [],
   "source": [
    "\n",
    "class Producer(threading.Thread):\n",
    "    headers = {\n",
    "        'User-Agent': 'Mozilla/5.0 (Windows NT 10.0; Win64; x64) AppleWebKit/537.36 (KHTML, like Gecko) Chrome/81.0.4044.129 Safari/537.36',\n",
    "    }\n",
    "\n",
    "    def __init__(self, page_queue, img_queue, *args, **kwargs):\n",
    "        super(Producer, self).__init__(*args, **kwargs)\n",
    "        self.page_queue = page_queue\n",
    "        self.img_queue = img_queue\n",
    "\n",
    "    def run(self):\n",
    "        while True:\n",
    "            if self.page_queue.empty():\n",
    "                break\n",
    "            url = self.page_queue.get()\n",
    "            self.parse_page(url)\n",
    "\n",
    "    def parse_page(self, url):\n",
    "        response = requests.get(url, headers=self.headers)\n",
    "        text = response.text\n",
    "        html = etree.HTML(text)\n",
    "        imgs = html.xpath(\"//div[@class='page-content text-center']//img[@class!='gif']\")\n",
    "        for img in imgs:\n",
    "            img_url = img.get('data-original')\n",
    "            img_name = img.get('alt')\n",
    "            ## 去除指定符号\n",
    "            img_name = re.sub(r'[\\\\/:\\*\\?\\'\\\"\\<\\>\\|]', '', img_name)\n",
    "            ## 获取后缀名\n",
    "            suffix = os.path.splitext(img_url)[1]\n",
    "            file_name = img_name + suffix\n",
    "            self.img_queue.put((img_url, file_name))\n",
    "\n",
    "\n",
    "class Consumer(threading.Thread):\n",
    "    def __init__(self, page_queue, img_queue, *args, **kwargs):\n",
    "        super(Consumer, self).__init__(*args, **kwargs)\n",
    "        self.page_queue = page_queue\n",
    "        self.img_queue = img_queue\n",
    "\n",
    "    def run(self):\n",
    "        while True:\n",
    "            if self.img_queue.empty() and self.page_queue.empty():\n",
    "                break\n",
    "            img_url, file_name = self.img_queue.get()\n",
    "            request.urlretrieve(img_url, 'images/' + file_name)\n",
    "            print(file_name + '下载完成！！！')\n",
    "\n",
    "\n",
    "def main():\n",
    "    page_queue = Queue(100)\n",
    "    img_queue = Queue(1000)\n",
    "    for x in range(1, 10):\n",
    "        url = 'https://www.doutula.com/photo/list/?page=%d' % x\n",
    "        page_queue.put(url)\n",
    "\n",
    "    for x in range(5):\n",
    "        t = Producer(page_queue, img_queue)\n",
    "        t.start()\n",
    "    for x in range(5):\n",
    "        t = Consumer(page_queue, img_queue)\n",
    "        t.start()\n",
    "\n",
    "\n",
    "# main()"
   ]
  },
  {
   "cell_type": "code",
   "execution_count": null,
   "metadata": {},
   "outputs": [],
   "source": []
  }
 ],
 "metadata": {
  "kernelspec": {
   "display_name": "Python 3",
   "language": "python",
   "name": "python3"
  },
  "language_info": {
   "codemirror_mode": {
    "name": "ipython",
    "version": 3
   },
   "file_extension": ".py",
   "mimetype": "text/x-python",
   "name": "python",
   "nbconvert_exporter": "python",
   "pygments_lexer": "ipython3",
   "version": "3.7.6"
  }
 },
 "nbformat": 4,
 "nbformat_minor": 4
}
