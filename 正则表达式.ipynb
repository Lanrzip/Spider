{
 "cells": [
  {
   "cell_type": "code",
   "execution_count": 1,
   "metadata": {
    "execution": {
     "iopub.execute_input": "2020-07-27T06:24:03.991071Z",
     "iopub.status.busy": "2020-07-27T06:24:03.991071Z",
     "iopub.status.idle": "2020-07-27T06:24:03.997057Z",
     "shell.execute_reply": "2020-07-27T06:24:03.996096Z",
     "shell.execute_reply.started": "2020-07-27T06:24:03.991071Z"
    }
   },
   "outputs": [],
   "source": [
    "import re"
   ]
  },
  {
   "cell_type": "markdown",
   "metadata": {},
   "source": [
    "### 匹配单个字符"
   ]
  },
  {
   "cell_type": "code",
   "execution_count": 2,
   "metadata": {
    "execution": {
     "iopub.execute_input": "2020-07-27T02:58:21.606903Z",
     "iopub.status.busy": "2020-07-27T02:58:21.605901Z",
     "iopub.status.idle": "2020-07-27T02:58:21.615876Z",
     "shell.execute_reply": "2020-07-27T02:58:21.614895Z",
     "shell.execute_reply.started": "2020-07-27T02:58:21.606903Z"
    }
   },
   "outputs": [
    {
     "name": "stdout",
     "output_type": "stream",
     "text": [
      "he\n"
     ]
    }
   ],
   "source": [
    "# 匹配某个字符串\n",
    "text = 'hello'\n",
    "ret = re.match('he', text)\n",
    "print(ret.group())"
   ]
  },
  {
   "cell_type": "code",
   "execution_count": 6,
   "metadata": {
    "execution": {
     "iopub.execute_input": "2020-07-27T03:02:42.366399Z",
     "iopub.status.busy": "2020-07-27T03:02:42.366399Z",
     "iopub.status.idle": "2020-07-27T03:02:42.372384Z",
     "shell.execute_reply": "2020-07-27T03:02:42.371414Z",
     "shell.execute_reply.started": "2020-07-27T03:02:42.366399Z"
    }
   },
   "outputs": [
    {
     "name": "stdout",
     "output_type": "stream",
     "text": [
      "h\n"
     ]
    }
   ],
   "source": [
    "# . 匹配任意单个字符, 不能匹配换行符 \\n\n",
    "text = 'hello'\n",
    "ret = re.match('.', text)\n",
    "print(ret.group())"
   ]
  },
  {
   "cell_type": "code",
   "execution_count": 11,
   "metadata": {
    "execution": {
     "iopub.execute_input": "2020-07-27T03:03:51.533540Z",
     "iopub.status.busy": "2020-07-27T03:03:51.532516Z",
     "iopub.status.idle": "2020-07-27T03:03:51.539540Z",
     "shell.execute_reply": "2020-07-27T03:03:51.538499Z",
     "shell.execute_reply.started": "2020-07-27T03:03:51.533540Z"
    }
   },
   "outputs": [
    {
     "name": "stdout",
     "output_type": "stream",
     "text": [
      "1\n"
     ]
    }
   ],
   "source": [
    "# \\d 匹配任意单个数字\n",
    "text = '123'\n",
    "ret = re.match('\\d', text)\n",
    "print(ret.group())"
   ]
  },
  {
   "cell_type": "code",
   "execution_count": 14,
   "metadata": {
    "execution": {
     "iopub.execute_input": "2020-07-27T03:04:41.117565Z",
     "iopub.status.busy": "2020-07-27T03:04:41.116566Z",
     "iopub.status.idle": "2020-07-27T03:04:41.123548Z",
     "shell.execute_reply": "2020-07-27T03:04:41.122553Z",
     "shell.execute_reply.started": "2020-07-27T03:04:41.117565Z"
    }
   },
   "outputs": [
    {
     "name": "stdout",
     "output_type": "stream",
     "text": [
      "[\n"
     ]
    }
   ],
   "source": [
    "# \\D 匹配任意非数字\n",
    "text = '[]3hello'\n",
    "ret = re.match('\\D', text)\n",
    "print(ret.group())"
   ]
  },
  {
   "cell_type": "code",
   "execution_count": 19,
   "metadata": {
    "execution": {
     "iopub.execute_input": "2020-07-27T03:06:28.358598Z",
     "iopub.status.busy": "2020-07-27T03:06:28.357593Z",
     "iopub.status.idle": "2020-07-27T03:06:28.364577Z",
     "shell.execute_reply": "2020-07-27T03:06:28.363579Z",
     "shell.execute_reply.started": "2020-07-27T03:06:28.358598Z"
    }
   },
   "outputs": [
    {
     "name": "stdout",
     "output_type": "stream",
     "text": [
      " \n"
     ]
    }
   ],
   "source": [
    "# \\s 匹配空白字符：换行\\n, 制表\\t, 换行符\\r\n",
    "text = '   '\n",
    "ret = re.match('\\s', text)\n",
    "print(ret.group())"
   ]
  },
  {
   "cell_type": "code",
   "execution_count": 27,
   "metadata": {
    "execution": {
     "iopub.execute_input": "2020-07-27T03:08:04.469215Z",
     "iopub.status.busy": "2020-07-27T03:08:04.469215Z",
     "iopub.status.idle": "2020-07-27T03:08:04.475196Z",
     "shell.execute_reply": "2020-07-27T03:08:04.474200Z",
     "shell.execute_reply.started": "2020-07-27T03:08:04.469215Z"
    }
   },
   "outputs": [
    {
     "name": "stdout",
     "output_type": "stream",
     "text": [
      "aBzZ32_\n"
     ]
    }
   ],
   "source": [
    "# \\w 匹配a-z A-Z 数字 下划线\n",
    "text = 'aBzZ32_ ___'\n",
    "ret = re.search('\\w+', text)\n",
    "print(ret.group())"
   ]
  },
  {
   "cell_type": "code",
   "execution_count": 28,
   "metadata": {
    "execution": {
     "iopub.execute_input": "2020-07-27T03:08:25.117373Z",
     "iopub.status.busy": "2020-07-27T03:08:25.117373Z",
     "iopub.status.idle": "2020-07-27T03:08:25.122359Z",
     "shell.execute_reply": "2020-07-27T03:08:25.121364Z",
     "shell.execute_reply.started": "2020-07-27T03:08:25.117373Z"
    }
   },
   "outputs": [],
   "source": [
    "# \\W 与\\w 想反"
   ]
  },
  {
   "cell_type": "code",
   "execution_count": 32,
   "metadata": {
    "execution": {
     "iopub.execute_input": "2020-07-27T03:10:32.233647Z",
     "iopub.status.busy": "2020-07-27T03:10:32.233647Z",
     "iopub.status.idle": "2020-07-27T03:10:32.238634Z",
     "shell.execute_reply": "2020-07-27T03:10:32.237657Z",
     "shell.execute_reply.started": "2020-07-27T03:10:32.233647Z"
    }
   },
   "outputs": [
    {
     "name": "stdout",
     "output_type": "stream",
     "text": [
      "a\n"
     ]
    }
   ],
   "source": [
    "# []组合方式，匹配满足中括号中的所有\n",
    "text = 'aBzZ32_ ___'\n",
    "ret = re.match('[a1]', text)\n",
    "print(ret.group())"
   ]
  },
  {
   "cell_type": "code",
   "execution_count": 38,
   "metadata": {
    "execution": {
     "iopub.execute_input": "2020-07-27T03:12:21.833640Z",
     "iopub.status.busy": "2020-07-27T03:12:21.832643Z",
     "iopub.status.idle": "2020-07-27T03:12:21.838956Z",
     "shell.execute_reply": "2020-07-27T03:12:21.837981Z",
     "shell.execute_reply.started": "2020-07-27T03:12:21.833640Z"
    }
   },
   "outputs": [
    {
     "name": "stdout",
     "output_type": "stream",
     "text": [
      "8888-666666\n"
     ]
    }
   ],
   "source": [
    "text = '8888-666666'\n",
    "ret = re.match('[\\d-]+', text)\n",
    "print(ret.group())"
   ]
  },
  {
   "cell_type": "code",
   "execution_count": 45,
   "metadata": {
    "execution": {
     "iopub.execute_input": "2020-07-27T03:16:23.614922Z",
     "iopub.status.busy": "2020-07-27T03:16:23.614922Z",
     "iopub.status.idle": "2020-07-27T03:16:23.622899Z",
     "shell.execute_reply": "2020-07-27T03:16:23.621922Z",
     "shell.execute_reply.started": "2020-07-27T03:16:23.614922Z"
    }
   },
   "outputs": [
    {
     "name": "stdout",
     "output_type": "stream",
     "text": [
      "123\n"
     ]
    }
   ],
   "source": [
    "# \\d 的替代\n",
    "text = '123fes '\n",
    "ret = re.match('[0-9]+', text)\n",
    "print(ret.group())"
   ]
  },
  {
   "cell_type": "code",
   "execution_count": 41,
   "metadata": {
    "execution": {
     "iopub.execute_input": "2020-07-27T03:15:54.389464Z",
     "iopub.status.busy": "2020-07-27T03:15:54.389464Z",
     "iopub.status.idle": "2020-07-27T03:15:54.396443Z",
     "shell.execute_reply": "2020-07-27T03:15:54.395446Z",
     "shell.execute_reply.started": "2020-07-27T03:15:54.389464Z"
    }
   },
   "outputs": [
    {
     "name": "stdout",
     "output_type": "stream",
     "text": [
      "fef&*_ \n"
     ]
    }
   ],
   "source": [
    "# \\D 的替代\n",
    "text = 'fef&*_ 123'\n",
    "ret = re.match('[^0-9]+', text)\n",
    "print(ret.group())"
   ]
  },
  {
   "cell_type": "code",
   "execution_count": 49,
   "metadata": {
    "execution": {
     "iopub.execute_input": "2020-07-27T03:17:32.582580Z",
     "iopub.status.busy": "2020-07-27T03:17:32.580583Z",
     "iopub.status.idle": "2020-07-27T03:17:32.590813Z",
     "shell.execute_reply": "2020-07-27T03:17:32.589829Z",
     "shell.execute_reply.started": "2020-07-27T03:17:32.582580Z"
    }
   },
   "outputs": [
    {
     "name": "stdout",
     "output_type": "stream",
     "text": [
      "23f098JIF_jefio\n"
     ]
    }
   ],
   "source": [
    "# \\w 的替代\n",
    "text = '23f098JIF_jefio'\n",
    "ret = re.match('[a-zA-Z0-9_]+', text)\n",
    "print(ret.group())"
   ]
  },
  {
   "cell_type": "code",
   "execution_count": 50,
   "metadata": {
    "execution": {
     "iopub.execute_input": "2020-07-27T03:18:33.945181Z",
     "iopub.status.busy": "2020-07-27T03:18:33.945181Z",
     "iopub.status.idle": "2020-07-27T03:18:33.951165Z",
     "shell.execute_reply": "2020-07-27T03:18:33.950168Z",
     "shell.execute_reply.started": "2020-07-27T03:18:33.945181Z"
    }
   },
   "outputs": [
    {
     "name": "stdout",
     "output_type": "stream",
     "text": [
      "&*\n"
     ]
    }
   ],
   "source": [
    "# \\W 的替代\n",
    "text = '&*23f098JIF_jefio'\n",
    "ret = re.match('[^a-zA-Z0-9_]+', text)\n",
    "print(ret.group())"
   ]
  },
  {
   "cell_type": "markdown",
   "metadata": {},
   "source": [
    "### 匹配多个字符"
   ]
  },
  {
   "cell_type": "code",
   "execution_count": 54,
   "metadata": {
    "execution": {
     "iopub.execute_input": "2020-07-27T03:23:09.888904Z",
     "iopub.status.busy": "2020-07-27T03:23:09.888904Z",
     "iopub.status.idle": "2020-07-27T03:23:09.894886Z",
     "shell.execute_reply": "2020-07-27T03:23:09.893888Z",
     "shell.execute_reply.started": "2020-07-27T03:23:09.888904Z"
    }
   },
   "outputs": [
    {
     "name": "stdout",
     "output_type": "stream",
     "text": [
      "2343\n"
     ]
    }
   ],
   "source": [
    "# * 匹配0或任意多个字符，匹配不到不会报错\n",
    "text = '2343aa'\n",
    "ret = re.match('\\d*', text)\n",
    "print(ret.group())"
   ]
  },
  {
   "cell_type": "code",
   "execution_count": 55,
   "metadata": {
    "execution": {
     "iopub.execute_input": "2020-07-27T03:23:10.036272Z",
     "iopub.status.busy": "2020-07-27T03:23:10.035209Z",
     "iopub.status.idle": "2020-07-27T03:23:10.043191Z",
     "shell.execute_reply": "2020-07-27T03:23:10.042201Z",
     "shell.execute_reply.started": "2020-07-27T03:23:10.036272Z"
    }
   },
   "outputs": [
    {
     "name": "stdout",
     "output_type": "stream",
     "text": [
      "23z43aa_AZ\n"
     ]
    }
   ],
   "source": [
    "# + 匹配1或多个字符，匹配不到会报错\n",
    "text = '23z43aa_AZ'\n",
    "ret = re.match('\\w+', text)\n",
    "print(ret.group())"
   ]
  },
  {
   "cell_type": "code",
   "execution_count": 57,
   "metadata": {
    "execution": {
     "iopub.execute_input": "2020-07-27T03:24:11.782338Z",
     "iopub.status.busy": "2020-07-27T03:24:11.778350Z",
     "iopub.status.idle": "2020-07-27T03:24:11.790313Z",
     "shell.execute_reply": "2020-07-27T03:24:11.789316Z",
     "shell.execute_reply.started": "2020-07-27T03:24:11.781377Z"
    }
   },
   "outputs": [
    {
     "name": "stdout",
     "output_type": "stream",
     "text": [
      "2\n"
     ]
    }
   ],
   "source": [
    "# ? 0个或1个\n",
    "text = '23z43aa_AZ'\n",
    "ret = re.match('\\w?', text)\n",
    "print(ret.group())"
   ]
  },
  {
   "cell_type": "code",
   "execution_count": 59,
   "metadata": {
    "execution": {
     "iopub.execute_input": "2020-07-27T03:25:25.961615Z",
     "iopub.status.busy": "2020-07-27T03:25:25.960626Z",
     "iopub.status.idle": "2020-07-27T03:25:25.969594Z",
     "shell.execute_reply": "2020-07-27T03:25:25.967593Z",
     "shell.execute_reply.started": "2020-07-27T03:25:25.961615Z"
    }
   },
   "outputs": [
    {
     "name": "stdout",
     "output_type": "stream",
     "text": [
      "23z43a\n"
     ]
    }
   ],
   "source": [
    "# {m} 匹配m个字符\n",
    "text = '23z43aa_AZ'\n",
    "ret = re.match('\\w{6}', text)\n",
    "print(ret.group())"
   ]
  },
  {
   "cell_type": "code",
   "execution_count": 64,
   "metadata": {
    "execution": {
     "iopub.execute_input": "2020-07-27T03:26:28.542141Z",
     "iopub.status.busy": "2020-07-27T03:26:28.541145Z",
     "iopub.status.idle": "2020-07-27T03:26:28.549135Z",
     "shell.execute_reply": "2020-07-27T03:26:28.548124Z",
     "shell.execute_reply.started": "2020-07-27T03:26:28.542141Z"
    }
   },
   "outputs": [
    {
     "name": "stdout",
     "output_type": "stream",
     "text": [
      "23z\n"
     ]
    }
   ],
   "source": [
    "# {m,n} 匹配m到n个字符\n",
    "text = '23z'\n",
    "ret = re.match('\\w{2,5}', text)\n",
    "print(ret.group())"
   ]
  },
  {
   "cell_type": "markdown",
   "metadata": {},
   "source": [
    "### 案例"
   ]
  },
  {
   "cell_type": "code",
   "execution_count": 68,
   "metadata": {
    "execution": {
     "iopub.execute_input": "2020-07-27T03:29:25.105043Z",
     "iopub.status.busy": "2020-07-27T03:29:25.104061Z",
     "iopub.status.idle": "2020-07-27T03:29:25.117011Z",
     "shell.execute_reply": "2020-07-27T03:29:25.115018Z",
     "shell.execute_reply.started": "2020-07-27T03:29:25.105043Z"
    }
   },
   "outputs": [
    {
     "name": "stdout",
     "output_type": "stream",
     "text": [
      "18653188888\n"
     ]
    }
   ],
   "source": [
    "# 手机号码\n",
    "text = '18653188888'\n",
    "ret = re.match('1[34578]\\d{9}', text)\n",
    "print(ret.group())"
   ]
  },
  {
   "cell_type": "code",
   "execution_count": 72,
   "metadata": {
    "execution": {
     "iopub.execute_input": "2020-07-27T03:33:10.948190Z",
     "iopub.status.busy": "2020-07-27T03:33:10.948190Z",
     "iopub.status.idle": "2020-07-27T03:33:10.955169Z",
     "shell.execute_reply": "2020-07-27T03:33:10.955169Z",
     "shell.execute_reply.started": "2020-07-27T03:33:10.948190Z"
    }
   },
   "outputs": [
    {
     "name": "stdout",
     "output_type": "stream",
     "text": [
      "hahaha@qq.com\n"
     ]
    }
   ],
   "source": [
    "# 邮箱\n",
    "text = 'hahaha@qq.com'\n",
    "ret = re.match('\\w+@[a-z0-9]+\\.[a-z]+', text)\n",
    "print(ret.group())"
   ]
  },
  {
   "cell_type": "code",
   "execution_count": 75,
   "metadata": {
    "execution": {
     "iopub.execute_input": "2020-07-27T04:59:18.831556Z",
     "iopub.status.busy": "2020-07-27T04:59:18.831556Z",
     "iopub.status.idle": "2020-07-27T04:59:18.838537Z",
     "shell.execute_reply": "2020-07-27T04:59:18.837540Z",
     "shell.execute_reply.started": "2020-07-27T04:59:18.831556Z"
    }
   },
   "outputs": [
    {
     "name": "stdout",
     "output_type": "stream",
     "text": [
      "http://www.baidu.com/\n"
     ]
    }
   ],
   "source": [
    "# URL\n",
    "text = 'http://www.baidu.com/'\n",
    "ret = re.match('(http|https|ftp)://[^\\s]+', text)\n",
    "print(ret.group())"
   ]
  },
  {
   "cell_type": "code",
   "execution_count": 77,
   "metadata": {
    "execution": {
     "iopub.execute_input": "2020-07-27T05:00:52.378505Z",
     "iopub.status.busy": "2020-07-27T05:00:52.377488Z",
     "iopub.status.idle": "2020-07-27T05:00:52.383454Z",
     "shell.execute_reply": "2020-07-27T05:00:52.382494Z",
     "shell.execute_reply.started": "2020-07-27T05:00:52.378505Z"
    }
   },
   "outputs": [
    {
     "name": "stdout",
     "output_type": "stream",
     "text": [
      "37010419990120325X\n"
     ]
    }
   ],
   "source": [
    "# 身份证\n",
    "text = '37010419990120325X'\n",
    "ret = re.match('\\d{17}[\\dxX]', text)\n",
    "print(ret.group())"
   ]
  },
  {
   "cell_type": "code",
   "execution_count": 10,
   "metadata": {
    "execution": {
     "iopub.execute_input": "2020-07-27T06:27:05.861181Z",
     "iopub.status.busy": "2020-07-27T06:27:05.860211Z",
     "iopub.status.idle": "2020-07-27T06:27:05.876154Z",
     "shell.execute_reply": "2020-07-27T06:27:05.875179Z",
     "shell.execute_reply.started": "2020-07-27T06:27:05.861181Z"
    }
   },
   "outputs": [
    {
     "ename": "AttributeError",
     "evalue": "'NoneType' object has no attribute 'group'",
     "output_type": "error",
     "traceback": [
      "\u001b[1;31m---------------------------------------------------------------------------\u001b[0m",
      "\u001b[1;31mAttributeError\u001b[0m                            Traceback (most recent call last)",
      "\u001b[1;32m<ipython-input-10-b0cdb7373925>\u001b[0m in \u001b[0;36m<module>\u001b[1;34m\u001b[0m\n\u001b[0;32m      4\u001b[0m \u001b[1;31m# 必须以h开头\u001b[0m\u001b[1;33m\u001b[0m\u001b[1;33m\u001b[0m\u001b[1;33m\u001b[0m\u001b[0m\n\u001b[0;32m      5\u001b[0m \u001b[0mret\u001b[0m \u001b[1;33m=\u001b[0m \u001b[0mre\u001b[0m\u001b[1;33m.\u001b[0m\u001b[0msearch\u001b[0m\u001b[1;33m(\u001b[0m\u001b[1;34m'^h'\u001b[0m\u001b[1;33m,\u001b[0m \u001b[0mtext\u001b[0m\u001b[1;33m)\u001b[0m\u001b[1;33m\u001b[0m\u001b[1;33m\u001b[0m\u001b[0m\n\u001b[1;32m----> 6\u001b[1;33m \u001b[0mprint\u001b[0m\u001b[1;33m(\u001b[0m\u001b[0mret\u001b[0m\u001b[1;33m.\u001b[0m\u001b[0mgroup\u001b[0m\u001b[1;33m(\u001b[0m\u001b[1;33m)\u001b[0m\u001b[1;33m)\u001b[0m\u001b[1;33m\u001b[0m\u001b[1;33m\u001b[0m\u001b[0m\n\u001b[0m",
      "\u001b[1;31mAttributeError\u001b[0m: 'NoneType' object has no attribute 'group'"
     ]
    }
   ],
   "source": [
    "# 脱字号 ^ \n",
    "text = 'you hello'\n",
    "\n",
    "# 必须以h开头\n",
    "ret = re.search('^h', text)\n",
    "print(ret.group())"
   ]
  },
  {
   "cell_type": "code",
   "execution_count": 16,
   "metadata": {
    "execution": {
     "iopub.execute_input": "2020-07-27T06:30:35.820491Z",
     "iopub.status.busy": "2020-07-27T06:30:35.820491Z",
     "iopub.status.idle": "2020-07-27T06:30:35.828467Z",
     "shell.execute_reply": "2020-07-27T06:30:35.826472Z",
     "shell.execute_reply.started": "2020-07-27T06:30:35.820491Z"
    }
   },
   "outputs": [
    {
     "name": "stdout",
     "output_type": "stream",
     "text": [
      "hahaha@163.com\n"
     ]
    }
   ],
   "source": [
    "# $ 以...结尾\n",
    "text = 'hahaha@163.com'\n",
    "ret = re.match('\\w+@163.com$', text)\n",
    "print(ret.group())"
   ]
  },
  {
   "cell_type": "code",
   "execution_count": 17,
   "metadata": {
    "execution": {
     "iopub.execute_input": "2020-07-27T06:31:58.998040Z",
     "iopub.status.busy": "2020-07-27T06:31:58.998040Z",
     "iopub.status.idle": "2020-07-27T06:31:59.007038Z",
     "shell.execute_reply": "2020-07-27T06:31:59.006037Z",
     "shell.execute_reply.started": "2020-07-27T06:31:58.998040Z"
    }
   },
   "outputs": [
    {
     "name": "stdout",
     "output_type": "stream",
     "text": [
      "http://www.baidu.com/\n"
     ]
    }
   ],
   "source": [
    "# | 匹配多个表达式\n",
    "text = 'http://www.baidu.com/'\n",
    "ret = re.match('(http|https|ftp)://[^\\s]+', text)\n",
    "print(ret.group())"
   ]
  },
  {
   "cell_type": "code",
   "execution_count": 25,
   "metadata": {
    "execution": {
     "iopub.execute_input": "2020-07-27T06:37:07.688154Z",
     "iopub.status.busy": "2020-07-27T06:37:07.688154Z",
     "iopub.status.idle": "2020-07-27T06:37:07.695146Z",
     "shell.execute_reply": "2020-07-27T06:37:07.693153Z",
     "shell.execute_reply.started": "2020-07-27T06:37:07.688154Z"
    }
   },
   "outputs": [
    {
     "name": "stdout",
     "output_type": "stream",
     "text": [
      "<h1>标题</h1>\n"
     ]
    }
   ],
   "source": [
    "# 贪婪模式\n",
    "text = '<h1>标题</h1>'\n",
    "ret = re.match('<.+>', text)\n",
    "print(ret.group())"
   ]
  },
  {
   "cell_type": "code",
   "execution_count": 27,
   "metadata": {
    "execution": {
     "iopub.execute_input": "2020-07-27T06:37:38.431210Z",
     "iopub.status.busy": "2020-07-27T06:37:38.430178Z",
     "iopub.status.idle": "2020-07-27T06:37:38.437158Z",
     "shell.execute_reply": "2020-07-27T06:37:38.436162Z",
     "shell.execute_reply.started": "2020-07-27T06:37:38.431210Z"
    }
   },
   "outputs": [
    {
     "name": "stdout",
     "output_type": "stream",
     "text": [
      "<h1>\n"
     ]
    }
   ],
   "source": [
    "# 非贪婪模式\n",
    "text = '<h1>标题</h1>'\n",
    "ret = re.match('<.+?>', text)\n",
    "print(ret.group())"
   ]
  },
  {
   "cell_type": "markdown",
   "metadata": {},
   "source": [
    "#### 匹配0-100间的数字"
   ]
  },
  {
   "cell_type": "code",
   "execution_count": 35,
   "metadata": {
    "execution": {
     "iopub.execute_input": "2020-07-27T06:46:02.254444Z",
     "iopub.status.busy": "2020-07-27T06:46:02.254444Z",
     "iopub.status.idle": "2020-07-27T06:46:02.264027Z",
     "shell.execute_reply": "2020-07-27T06:46:02.262034Z",
     "shell.execute_reply.started": "2020-07-27T06:46:02.254444Z"
    }
   },
   "outputs": [
    {
     "name": "stdout",
     "output_type": "stream",
     "text": [
      "100\n"
     ]
    }
   ],
   "source": [
    "# 不能出现09等\n",
    "text = '100'\n",
    "ret = re.match('[1-9]\\d?$|100$', text)\n",
    "print(ret.group())"
   ]
  },
  {
   "cell_type": "markdown",
   "metadata": {},
   "source": [
    "### 转义字符"
   ]
  },
  {
   "cell_type": "code",
   "execution_count": 40,
   "metadata": {
    "execution": {
     "iopub.execute_input": "2020-07-27T06:56:27.235621Z",
     "iopub.status.busy": "2020-07-27T06:56:27.234621Z",
     "iopub.status.idle": "2020-07-27T06:56:27.241610Z",
     "shell.execute_reply": "2020-07-27T06:56:27.240644Z",
     "shell.execute_reply.started": "2020-07-27T06:56:27.235621Z"
    }
   },
   "outputs": [
    {
     "name": "stdout",
     "output_type": "stream",
     "text": [
      "$299\n"
     ]
    }
   ],
   "source": [
    "text = 'apple price is $299.'\n",
    "ret = re.search('\\$\\d+', text)\n",
    "print(ret.group())"
   ]
  },
  {
   "cell_type": "code",
   "execution_count": 44,
   "metadata": {
    "execution": {
     "iopub.execute_input": "2020-07-27T07:02:04.677075Z",
     "iopub.status.busy": "2020-07-27T07:02:04.677075Z",
     "iopub.status.idle": "2020-07-27T07:02:04.683062Z",
     "shell.execute_reply": "2020-07-27T07:02:04.682063Z",
     "shell.execute_reply.started": "2020-07-27T07:02:04.677075Z"
    }
   },
   "outputs": [
    {
     "name": "stdout",
     "output_type": "stream",
     "text": [
      "\\n\n"
     ]
    }
   ],
   "source": [
    "text = '\\\\n'\n",
    "\n",
    "# python:\n",
    "# \\\\\\\\n  ->  \\\\n\n",
    "# re:\n",
    "# \\\\n  ->  \\n\n",
    "ret = re.search('\\\\\\\\n', text)\n",
    "print(ret.group())"
   ]
  },
  {
   "cell_type": "code",
   "execution_count": 45,
   "metadata": {
    "execution": {
     "iopub.execute_input": "2020-07-27T07:03:48.051229Z",
     "iopub.status.busy": "2020-07-27T07:03:48.051229Z",
     "iopub.status.idle": "2020-07-27T07:03:48.060206Z",
     "shell.execute_reply": "2020-07-27T07:03:48.058253Z",
     "shell.execute_reply.started": "2020-07-27T07:03:48.051229Z"
    }
   },
   "outputs": [
    {
     "name": "stdout",
     "output_type": "stream",
     "text": [
      "\\n\n"
     ]
    }
   ],
   "source": [
    "text = '\\\\n'\n",
    "ret = re.search(r'\\\\n', text)\n",
    "print(ret.group())"
   ]
  },
  {
   "cell_type": "markdown",
   "metadata": {},
   "source": [
    "### 分组"
   ]
  },
  {
   "cell_type": "code",
   "execution_count": 56,
   "metadata": {
    "execution": {
     "iopub.execute_input": "2020-07-27T07:12:39.300555Z",
     "iopub.status.busy": "2020-07-27T07:12:39.300555Z",
     "iopub.status.idle": "2020-07-27T07:12:39.310526Z",
     "shell.execute_reply": "2020-07-27T07:12:39.309542Z",
     "shell.execute_reply.started": "2020-07-27T07:12:39.300555Z"
    }
   },
   "outputs": [
    {
     "name": "stdout",
     "output_type": "stream",
     "text": [
      "apple's price is $299, orange's price is $233\n",
      "$299\n",
      "$233\n",
      "('$299', '$233')\n",
      "('$299', '$233')\n"
     ]
    }
   ],
   "source": [
    "text = \"apple's price is $299, orange's price is $233\"\n",
    "ret = re.search('.*(\\$\\d+).*(\\$\\d+)', text)\n",
    "print(ret.group())\n",
    "print(ret.group(1))\n",
    "print(ret.group(2))\n",
    "print(ret.group(1,2))\n",
    "print(ret.groups())"
   ]
  },
  {
   "cell_type": "markdown",
   "metadata": {},
   "source": [
    "### findall"
   ]
  },
  {
   "cell_type": "code",
   "execution_count": 61,
   "metadata": {
    "execution": {
     "iopub.execute_input": "2020-07-27T07:15:00.795801Z",
     "iopub.status.busy": "2020-07-27T07:15:00.794773Z",
     "iopub.status.idle": "2020-07-27T07:15:00.801754Z",
     "shell.execute_reply": "2020-07-27T07:15:00.800757Z",
     "shell.execute_reply.started": "2020-07-27T07:15:00.795801Z"
    }
   },
   "outputs": [
    {
     "name": "stdout",
     "output_type": "stream",
     "text": [
      "['$299', '$233']\n"
     ]
    }
   ],
   "source": [
    "text = \"apple's price is $299, orange's price is $233\"\n",
    "ret = re.findall('\\$\\d+', text)\n",
    "print(ret)"
   ]
  },
  {
   "cell_type": "markdown",
   "metadata": {},
   "source": [
    "### sub(替换)"
   ]
  },
  {
   "cell_type": "code",
   "execution_count": 62,
   "metadata": {
    "execution": {
     "iopub.execute_input": "2020-07-27T07:16:26.634531Z",
     "iopub.status.busy": "2020-07-27T07:16:26.634531Z",
     "iopub.status.idle": "2020-07-27T07:16:26.641344Z",
     "shell.execute_reply": "2020-07-27T07:16:26.640348Z",
     "shell.execute_reply.started": "2020-07-27T07:16:26.634531Z"
    }
   },
   "outputs": [
    {
     "name": "stdout",
     "output_type": "stream",
     "text": [
      "apple's price is 0, orange's price is 0\n"
     ]
    }
   ],
   "source": [
    "text = \"apple's price is $299, orange's price is $233\"\n",
    "ret = re.sub('\\$\\d+', '0', text)\n",
    "print(ret)"
   ]
  },
  {
   "cell_type": "code",
   "execution_count": null,
   "metadata": {},
   "outputs": [],
   "source": []
  }
 ],
 "metadata": {
  "kernelspec": {
   "display_name": "Python 3",
   "language": "python",
   "name": "python3"
  },
  "language_info": {
   "codemirror_mode": {
    "name": "ipython",
    "version": 3
   },
   "file_extension": ".py",
   "mimetype": "text/x-python",
   "name": "python",
   "nbconvert_exporter": "python",
   "pygments_lexer": "ipython3",
   "version": "3.7.7"
  }
 },
 "nbformat": 4,
 "nbformat_minor": 4
}
